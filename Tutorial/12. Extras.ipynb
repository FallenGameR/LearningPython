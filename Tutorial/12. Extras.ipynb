{
 "cells": [
  {
   "cell_type": "code",
   "execution_count": 1,
   "metadata": {},
   "outputs": [
    {
     "name": "stdout",
     "output_type": "stream",
     "text": [
      "Please enter an integer: 42\n"
     ]
    }
   ],
   "source": [
    "x = int(input(\"Please enter an integer: \"))"
   ]
  },
  {
   "cell_type": "code",
   "execution_count": 2,
   "metadata": {},
   "outputs": [
    {
     "name": "stdout",
     "output_type": "stream",
     "text": [
      "More\n"
     ]
    }
   ],
   "source": [
    "if x < 0:\n",
    "    x = 0\n",
    "    print('Negative changed to zero')\n",
    "elif x == 0:\n",
    "    print('Zero')\n",
    "elif x == 1:\n",
    "    print('Single')\n",
    "else:\n",
    "    print('More')"
   ]
  },
  {
   "cell_type": "code",
   "execution_count": null,
   "metadata": {},
   "outputs": [],
   "source": [
    "# Measure some strings:\n",
    "words = ['cat', 'window', 'defenestrate']\n",
    "for w in words:\n",
    "    print(w, len(w))"
   ]
  },
  {
   "cell_type": "code",
   "execution_count": 29,
   "metadata": {},
   "outputs": [
    {
     "name": "stdout",
     "output_type": "stream",
     "text": [
      "Wall time: 0 ns\n"
     ]
    },
    {
     "data": {
      "text/plain": [
       "['defenestrate',\n",
       " 'defenestrate',\n",
       " 'defenestrate',\n",
       " 'defenestrate',\n",
       " 'defenestrate',\n",
       " 'defenestrate',\n",
       " 'defenestrate',\n",
       " 'defenestrate',\n",
       " 'defenestrate',\n",
       " 'defenestrate',\n",
       " 'defenestrate',\n",
       " 'defenestrate',\n",
       " 'defenestrate',\n",
       " 'defenestrate',\n",
       " 'defenestrate',\n",
       " 'cat',\n",
       " 'window',\n",
       " 'defenestrate']"
      ]
     },
     "execution_count": 29,
     "metadata": {},
     "output_type": "execute_result"
    }
   ],
   "source": [
    "%%time\n",
    "for w in words[:]:  # Loop over a slice copy of the entire list.\n",
    "    if len(w) > 6:\n",
    "        words.insert(0, w)\n",
    "\n",
    "words"
   ]
  },
  {
   "cell_type": "code",
   "execution_count": 4,
   "metadata": {},
   "outputs": [
    {
     "data": {
      "image/png": "[encoded data removed]",
      "text/plain": [
       "<Figure size 432x288 with 1 Axes>"
      ]
     },
     "metadata": {
      "needs_background": "light"
     },
     "output_type": "display_data"
    }
   ],
   "source": [
    "from matplotlib import pyplot as plt\n",
    "# import seaborn\n",
    "x = range(1000)\n",
    "y = [i ** 2 for i in x]\n",
    "plt.plot(x,y)\n",
    "plt.show();"
   ]
  },
  {
   "cell_type": "markdown",
   "metadata": {},
   "source": [
    "$P(A \\mid B) = \\frac{P(B \\mid A)P(A)}{P(B)}$"
   ]
  },
  {
   "cell_type": "code",
   "execution_count": 43,
   "metadata": {},
   "outputs": [
    {
     "name": "stdout",
     "output_type": "stream",
     "text": [
      "4\n",
      "2\n",
      "0\n",
      "-2\n",
      "-4\n",
      "-6\n"
     ]
    }
   ],
   "source": [
    "for num in range(4,-8,-2):\n",
    "    print(num)"
   ]
  },
  {
   "cell_type": "code",
   "execution_count": 45,
   "metadata": {},
   "outputs": [
    {
     "name": "stdout",
     "output_type": "stream",
     "text": [
      "0 Mary\n",
      "1 had\n",
      "2 a\n",
      "3 little\n",
      "4 lamb\n",
      "0 Mary\n",
      "1 had\n",
      "2 a\n",
      "3 little\n",
      "4 lamb\n"
     ]
    }
   ],
   "source": [
    "a = ['Mary', 'had', 'a', 'little', 'lamb']\n",
    "\n",
    "for i in range(len(a)):\n",
    "    print(i, a[i])\n",
    "\n",
    "for ind,word in enumerate(a):\n",
    "    print(ind,word)"
   ]
  },
  {
   "cell_type": "code",
   "execution_count": 46,
   "metadata": {},
   "outputs": [
    {
     "data": {
      "text/plain": [
       "[0, 1, 2]"
      ]
     },
     "execution_count": 46,
     "metadata": {},
     "output_type": "execute_result"
    }
   ],
   "source": [
    "list(range(3))"
   ]
  },
  {
   "cell_type": "code",
   "execution_count": 53,
   "metadata": {},
   "outputs": [
    {
     "name": "stdout",
     "output_type": "stream",
     "text": [
      "2 is a prime number\n",
      "3 is a prime number\n",
      "4 equals 2 * 2\n",
      "5 is a prime number\n",
      "6 equals 2 * 3\n",
      "7 is a prime number\n",
      "8 equals 2 * 4\n",
      "9 equals 3 * 3\n"
     ]
    }
   ],
   "source": [
    "for n in range(2, 10):\n",
    "    for x in range(2, n):\n",
    "        if n % x == 0:\n",
    "            print(n, 'equals', x, '*', n//x)\n",
    "            break\n",
    "    else:\n",
    "        # loop fell through without finding a factor\n",
    "        print(n, 'is a prime number')"
   ]
  },
  {
   "cell_type": "code",
   "execution_count": 11,
   "metadata": {},
   "outputs": [
    {
     "name": "stdout",
     "output_type": "stream",
     "text": [
      "Found an even number 2\n",
      "Found a number 3\n",
      "Found an even number 4\n",
      "Found a number 5\n",
      "Found an even number 6\n",
      "Found a number 7\n",
      "Found an even number 8\n",
      "Found a number 9\n"
     ]
    }
   ],
   "source": [
    "for num in range(2, 10):\n",
    "    if num % 2 == 0:\n",
    "        print(\"Found an even number\", num)\n",
    "        continue\n",
    "    print(\"Found a number\", num)"
   ]
  },
  {
   "cell_type": "code",
   "execution_count": 54,
   "metadata": {},
   "outputs": [],
   "source": [
    "def initlog(*args):\n",
    "    pass   # Remember to implement this!"
   ]
  },
  {
   "cell_type": "code",
   "execution_count": 5,
   "metadata": {},
   "outputs": [
    {
     "name": "stdout",
     "output_type": "stream",
     "text": [
      "0 1 1 2 3 5 8 13 21 34 55 89 144 233 377 610 987 1597 \n"
     ]
    }
   ],
   "source": [
    "def fib(n):    # write Fibonacci series up to n\n",
    "    \"\"\"Print a Fibonacci series up to n. This is a docstring.\"\"\"\n",
    "    a, b = 0, 1\n",
    "    while a < n:\n",
    "        print(a, end=' ')\n",
    "        a, b = b, a+b\n",
    "    print()\n",
    "\n",
    "# Now call the function we just defined:\n",
    "fib(2000)"
   ]
  },
  {
   "cell_type": "code",
   "execution_count": 57,
   "metadata": {},
   "outputs": [],
   "source": [
    "%config IPCompleter.greedy=True"
   ]
  },
  {
   "cell_type": "code",
   "execution_count": 56,
   "metadata": {},
   "outputs": [
    {
     "data": {
      "text/plain": [
       "[0, 1, 1, 2, 3, 5, 8, 13, 21, 34, 55, 89]"
      ]
     },
     "execution_count": 56,
     "metadata": {},
     "output_type": "execute_result"
    }
   ],
   "source": [
    "def fib2(n):  # return Fibonacci series up to n\n",
    "    \"\"\"Return a list containing the Fibonacci series up to n.\"\"\"\n",
    "    result = []\n",
    "    a, b = 0, 1\n",
    "    while a < n:\n",
    "        result.append(a)    # see below\n",
    "        a, b = b, a+b\n",
    "    return result\n",
    "\n",
    "f100 = fib2(100)    # call it\n",
    "f100                # write the result"
   ]
  },
  {
   "cell_type": "code",
   "execution_count": 58,
   "metadata": {},
   "outputs": [],
   "source": [
    "def ask_ok(prompt, retries=4, reminder='Please try again!'):\n",
    "    while True:\n",
    "        ok = input(prompt)\n",
    "        if ok in ('y', 'ye', 'yes'):\n",
    "            return True\n",
    "        if ok in ('n', 'no', 'nop', 'nope'):\n",
    "            return False\n",
    "        retries = retries - 1\n",
    "        if retries < 0:\n",
    "            raise ValueError('invalid user response')\n",
    "        print(reminder)"
   ]
  },
  {
   "cell_type": "code",
   "execution_count": 60,
   "metadata": {},
   "outputs": [
    {
     "name": "stdout",
     "output_type": "stream",
     "text": [
      "yes?d\n",
      "Please try again!\n",
      "yes?d\n",
      "Please try again!\n",
      "yes?d\n",
      "Please try again!\n",
      "yes?d\n",
      "Please try again!\n",
      "yes?d\n"
     ]
    },
    {
     "ename": "ValueError",
     "evalue": "invalid user response",
     "output_type": "error",
     "traceback": [
      "\u001b[1;31m---------------------------------------------------------------------------\u001b[0m",
      "\u001b[1;31mValueError\u001b[0m                                Traceback (most recent call last)",
      "\u001b[1;32m<ipython-input-60-c2690de2193f>\u001b[0m in \u001b[0;36m<module>\u001b[1;34m\u001b[0m\n\u001b[1;32m----> 1\u001b[1;33m \u001b[0mask_ok\u001b[0m\u001b[1;33m(\u001b[0m\u001b[1;34m\"yes?\"\u001b[0m\u001b[1;33m)\u001b[0m\u001b[1;33m\u001b[0m\u001b[1;33m\u001b[0m\u001b[0m\n\u001b[0m",
      "\u001b[1;32m<ipython-input-58-16d7c37266ff>\u001b[0m in \u001b[0;36mask_ok\u001b[1;34m(prompt, retries, reminder)\u001b[0m\n\u001b[0;32m      8\u001b[0m         \u001b[0mretries\u001b[0m \u001b[1;33m=\u001b[0m \u001b[0mretries\u001b[0m \u001b[1;33m-\u001b[0m \u001b[1;36m1\u001b[0m\u001b[1;33m\u001b[0m\u001b[1;33m\u001b[0m\u001b[0m\n\u001b[0;32m      9\u001b[0m         \u001b[1;32mif\u001b[0m \u001b[0mretries\u001b[0m \u001b[1;33m<\u001b[0m \u001b[1;36m0\u001b[0m\u001b[1;33m:\u001b[0m\u001b[1;33m\u001b[0m\u001b[1;33m\u001b[0m\u001b[0m\n\u001b[1;32m---> 10\u001b[1;33m             \u001b[1;32mraise\u001b[0m \u001b[0mValueError\u001b[0m\u001b[1;33m(\u001b[0m\u001b[1;34m'invalid user response'\u001b[0m\u001b[1;33m)\u001b[0m\u001b[1;33m\u001b[0m\u001b[1;33m\u001b[0m\u001b[0m\n\u001b[0m\u001b[0;32m     11\u001b[0m         \u001b[0mprint\u001b[0m\u001b[1;33m(\u001b[0m\u001b[0mreminder\u001b[0m\u001b[1;33m)\u001b[0m\u001b[1;33m\u001b[0m\u001b[1;33m\u001b[0m\u001b[0m\n",
      "\u001b[1;31mValueError\u001b[0m: invalid user response"
     ]
    }
   ],
   "source": [
    "ask_ok(\"yes?\")"
   ]
  },
  {
   "cell_type": "code",
   "execution_count": 62,
   "metadata": {},
   "outputs": [
    {
     "data": {
      "text/plain": [
       "[3, 4, 5]"
      ]
     },
     "execution_count": 62,
     "metadata": {},
     "output_type": "execute_result"
    }
   ],
   "source": [
    "list(range(3, 6))            # normal call with separate arguments"
   ]
  },
  {
   "cell_type": "code",
   "execution_count": 61,
   "metadata": {},
   "outputs": [
    {
     "data": {
      "text/plain": [
       "[3, 4, 5]"
      ]
     },
     "execution_count": 61,
     "metadata": {},
     "output_type": "execute_result"
    }
   ],
   "source": [
    "args = [3, 6]\n",
    "list(range(*args))            # call with arguments unpacked from a list"
   ]
  },
  {
   "cell_type": "code",
   "execution_count": 63,
   "metadata": {},
   "outputs": [
    {
     "name": "stdout",
     "output_type": "stream",
     "text": [
      "-- This parrot wouldn't VOOM if you put four million volts through it. E's bleedin' demised !\n"
     ]
    }
   ],
   "source": [
    "def parrot(voltage, state='a stiff', action='voom'):\n",
    "    print(\"-- This parrot wouldn't\", action, end=' ')\n",
    "    print(\"if you put\", voltage, \"volts through it.\", end=' ')\n",
    "    print(\"E's\", state, \"!\")\n",
    "\n",
    "d = {\"voltage\": \"four million\", \"state\": \"bleedin' demised\", \"action\": \"VOOM\"}\n",
    "parrot(**d)\n"
   ]
  },
  {
   "cell_type": "code",
   "execution_count": 64,
   "metadata": {},
   "outputs": [
    {
     "data": {
      "text/plain": [
       "42"
      ]
     },
     "execution_count": 64,
     "metadata": {},
     "output_type": "execute_result"
    }
   ],
   "source": [
    "def make_incrementor(n):\n",
    "    return lambda x: x + n\n",
    "\n",
    "f = make_incrementor(42)\n",
    "f(0)"
   ]
  },
  {
   "cell_type": "code",
   "execution_count": 65,
   "metadata": {},
   "outputs": [
    {
     "data": {
      "text/plain": [
       "43"
      ]
     },
     "execution_count": 65,
     "metadata": {},
     "output_type": "execute_result"
    }
   ],
   "source": [
    "f(1)"
   ]
  },
  {
   "cell_type": "code",
   "execution_count": 69,
   "metadata": {},
   "outputs": [
    {
     "data": {
      "text/plain": [
       "[(4, 'four'), (1, 'one'), (3, 'three'), (2, 'two')]"
      ]
     },
     "execution_count": 69,
     "metadata": {},
     "output_type": "execute_result"
    }
   ],
   "source": [
    "pairs = [(1, 'one'), (2, 'two'), (3, 'three'), (4, 'four')]\n",
    "pairs.sort(key=lambda pair: pair[1])\n",
    "pairs"
   ]
  },
  {
   "cell_type": "code",
   "execution_count": 70,
   "metadata": {},
   "outputs": [
    {
     "name": "stdout",
     "output_type": "stream",
     "text": [
      "Do nothing, but document it.\n",
      "\n",
      "    No, really, it doesn't do anything.\n",
      "    \n"
     ]
    }
   ],
   "source": [
    "def my_function():\n",
    "    \"\"\"Do nothing, but document it.\n",
    "\n",
    "    No, really, it doesn't do anything.\n",
    "    \"\"\"\n",
    "    pass\n",
    "\n",
    "print(my_function.__doc__)\n"
   ]
  },
  {
   "cell_type": "code",
   "execution_count": 6,
   "metadata": {},
   "outputs": [],
   "source": [
    "%lsmagic?"
   ]
  },
  {
   "cell_type": "code",
   "execution_count": 7,
   "metadata": {},
   "outputs": [],
   "source": [
    "from IPython.display import HTML, SVG, YouTubeVideo"
   ]
  },
  {
   "cell_type": "code",
   "execution_count": 8,
   "metadata": {},
   "outputs": [
    {
     "data": {
      "text/html": [
       "\n",
       "    <table style=\"border: 2px solid black;\">\n",
       "    <tr><td>0,0</td><td>0,1</td><td>0,2</td><td>0,3</td><td>0,4</td></tr><tr><td>1,0</td><td>1,1</td><td>1,2</td><td>1,3</td><td>1,4</td></tr><tr><td>2,0</td><td>2,1</td><td>2,2</td><td>2,3</td><td>2,4</td></tr><tr><td>3,0</td><td>3,1</td><td>3,2</td><td>3,3</td><td>3,4</td></tr><tr><td>4,0</td><td>4,1</td><td>4,2</td><td>4,3</td><td>4,4</td></tr>\n",
       "    </table>\n",
       "    "
      ],
      "text/plain": [
       "<IPython.core.display.HTML object>"
      ]
     },
     "execution_count": 8,
     "metadata": {},
     "output_type": "execute_result"
    }
   ],
   "source": [
    "HTML('''\n",
    "    <table style=\"border: 2px solid black;\">\n",
    "    ''' +\n",
    "         ''.join(['<tr>' +\n",
    "                  ''.join([f'<td>{row},{col}</td>'\n",
    "                           for col in range(5)]) +\n",
    "                  '</tr>' for row in range(5)]) +\n",
    "         '''\n",
    "    </table>\n",
    "    ''')"
   ]
  },
  {
   "cell_type": "code",
   "execution_count": 9,
   "metadata": {},
   "outputs": [
    {
     "data": {
      "image/svg+xml": [
       "<svg height=\"80\" width=\"600\"><circle cx=\"300\" cy=\"30\" fill=\"red\" r=\"0.0\" stroke=\"black\" stroke-width=\"2\">\n",
       "            </circle><circle cx=\"297\" cy=\"30\" fill=\"red\" r=\"3.0\" stroke=\"black\" stroke-width=\"2\">\n",
       "            </circle><circle cx=\"288\" cy=\"30\" fill=\"red\" r=\"6.0\" stroke=\"black\" stroke-width=\"2\">\n",
       "            </circle><circle cx=\"273\" cy=\"30\" fill=\"red\" r=\"9.0\" stroke=\"black\" stroke-width=\"2\">\n",
       "            </circle><circle cx=\"252\" cy=\"30\" fill=\"red\" r=\"12.0\" stroke=\"black\" stroke-width=\"2\">\n",
       "            </circle><circle cx=\"225\" cy=\"30\" fill=\"red\" r=\"15.0\" stroke=\"black\" stroke-width=\"2\">\n",
       "            </circle><circle cx=\"192\" cy=\"30\" fill=\"red\" r=\"18.0\" stroke=\"black\" stroke-width=\"2\">\n",
       "            </circle><circle cx=\"153\" cy=\"30\" fill=\"red\" r=\"21.0\" stroke=\"black\" stroke-width=\"2\">\n",
       "            </circle><circle cx=\"108\" cy=\"30\" fill=\"red\" r=\"24.0\" stroke=\"black\" stroke-width=\"2\">\n",
       "            </circle><circle cx=\"57\" cy=\"30\" fill=\"red\" r=\"27.0\" stroke=\"black\" stroke-width=\"2\">\n",
       "            </circle></svg>"
      ],
      "text/plain": [
       "<IPython.core.display.SVG object>"
      ]
     },
     "execution_count": 9,
     "metadata": {},
     "output_type": "execute_result"
    }
   ],
   "source": [
    "SVG('''<svg width=\"600\" height=\"80\">''' +\n",
    "        ''.join([f'''<circle\n",
    "                  cx=\"{(30 + 3*i) * (10 - i)}\"\n",
    "                  cy=\"30\"\n",
    "                  r=\"{3. * float(i)}\"\n",
    "                  fill=\"red\"\n",
    "                  stroke-width=\"2\"\n",
    "                  stroke=\"black\">\n",
    "            </circle>''' for i in range(10)]) +\n",
    "        '''</svg>''')"
   ]
  },
  {
   "cell_type": "code",
   "execution_count": 10,
   "metadata": {},
   "outputs": [
    {
     "data": {
      "image/jpeg": "[encoded data removed]",
      "text/html": [
       "\n",
       "        <iframe\n",
       "            width=\"400\"\n",
       "            height=\"300\"\n",
       "            src=\"https://www.youtube.com/embed/5cU4BoM5Tho\"\n",
       "            frameborder=\"0\"\n",
       "            allowfullscreen\n",
       "        ></iframe>\n",
       "        "
      ],
      "text/plain": [
       "<IPython.lib.display.YouTubeVideo at 0x2aefb36f188>"
      ]
     },
     "execution_count": 10,
     "metadata": {},
     "output_type": "execute_result"
    }
   ],
   "source": [
    "YouTubeVideo('5cU4BoM5Tho')"
   ]
  },
  {
   "cell_type": "markdown",
   "metadata": {},
   "source": [
    "# From IPython book, new in Python 3.6"
   ]
  },
  {
   "cell_type": "code",
   "execution_count": 5,
   "metadata": {},
   "outputs": [
    {
     "name": "stdout",
     "output_type": "stream",
     "text": [
      "[0, 1, 2, 3, 4, 5, 6, 7, 8, 9]\n",
      "0 1 2 3 4 5 6 7 8 9\n",
      "0 + 1 + 2 + 3 + 4 + 5 + 6 + 7 + 8 + 9 = 45"
     ]
    }
   ],
   "source": [
    "my_list = list(range(10))\n",
    "print(my_list)\n",
    "print(*my_list)\n",
    "print(*my_list, sep=\" + \", end=\" = %d\" % sum(my_list))"
   ]
  },
  {
   "cell_type": "markdown",
   "metadata": {},
   "source": [
    "More advanced variable unpacking features:"
   ]
  },
  {
   "cell_type": "code",
   "execution_count": 8,
   "metadata": {},
   "outputs": [
    {
     "name": "stdout",
     "output_type": "stream",
     "text": [
      "0 1 9\n",
      "2 3 4 5 6 7 8\n"
     ]
    }
   ],
   "source": [
    "first, second, *rest, last = my_list\n",
    "print(first, second, last)\n",
    "print(*rest)"
   ]
  },
  {
   "cell_type": "markdown",
   "metadata": {},
   "source": [
    "In Python 3, variable names can contain Unicode characters. This technique may be useful when writing mathematical code. To type mathematical symbols in the Jupyter Notebook, write LaTeX code and press Tab: type \\pi and then Tab."
   ]
  },
  {
   "cell_type": "code",
   "execution_count": 9,
   "metadata": {},
   "outputs": [
    {
     "data": {
      "text/plain": [
       "1.0"
      ]
     },
     "execution_count": 9,
     "metadata": {},
     "output_type": "execute_result"
    }
   ],
   "source": [
    "from math import pi, cos\n",
    "α = 2\n",
    "π = pi\n",
    "cos(α * π)"
   ]
  },
  {
   "cell_type": "markdown",
   "metadata": {},
   "source": [
    "New string literals called f-strings. They offer a convenient syntax to define strings depending on existing variables"
   ]
  },
  {
   "cell_type": "code",
   "execution_count": 10,
   "metadata": {},
   "outputs": [
    {
     "data": {
      "text/plain": [
       "'The sum of 1 and 2 is 3'"
      ]
     },
     "execution_count": 10,
     "metadata": {},
     "output_type": "execute_result"
    }
   ],
   "source": [
    "a, b = 1, 2\n",
    "f\"The sum of {a} and {b} is {a + b}\""
   ]
  },
  {
   "cell_type": "markdown",
   "metadata": {},
   "source": [
    " Custom annotations to function arguments and output. These function annotations convey no semantics, but they can be used in the code as we like."
   ]
  },
  {
   "cell_type": "code",
   "execution_count": 11,
   "metadata": {},
   "outputs": [
    {
     "name": "stdout",
     "output_type": "stream",
     "text": [
      "mass is in kg, velocity is in m/s, return is in J\n"
     ]
    }
   ],
   "source": [
    "def kinetic_energy(mass: 'kg', velocity: 'm/s') -> 'J':\n",
    "    \"\"\"The annotations serve here as documentation.\"\"\"\n",
    "    return .5 * mass * velocity ** 2\n",
    "\n",
    "annotations = kinetic_energy.__annotations__\n",
    "print(*(f\"{key} is in {value}\" for key, value in annotations.items()), sep=\", \")"
   ]
  },
  {
   "cell_type": "markdown",
   "metadata": {},
   "source": [
    " New operator @ for matrix multiplication. It is supported by NumPy 1.10 and later"
   ]
  },
  {
   "cell_type": "code",
   "execution_count": 12,
   "metadata": {},
   "outputs": [
    {
     "name": "stdout",
     "output_type": "stream",
     "text": [
      "[[0 1]\n",
      " [1 0]]\n",
      "[[1 0]\n",
      " [0 1]]\n"
     ]
    }
   ],
   "source": [
    "import numpy as np\n",
    "M = np.array([[0, 1], [1, 0]])\n",
    "print(M * M)\n",
    "print(M @ M)"
   ]
  },
  {
   "cell_type": "markdown",
   "metadata": {},
   "source": [
    "yield from syntax that allows you, among other things, to compose multiple generators. For example, the two following functions are equivalent."
   ]
  },
  {
   "cell_type": "code",
   "execution_count": 19,
   "metadata": {},
   "outputs": [
    {
     "name": "stdout",
     "output_type": "stream",
     "text": [
      "0 0 1 0 1 2 0 1 2 3\n",
      "0 0 1 0 1 2 0 1 2 3\n"
     ]
    }
   ],
   "source": [
    "def gen1():\n",
    "    for i in range(5):\n",
    "        for j in range(i):\n",
    "            yield j\n",
    "            \n",
    "def gen2():\n",
    "    for i in range(5):\n",
    "        yield from range(i)   \n",
    "        \n",
    "print(*gen1())\n",
    "print(*gen2())"
   ]
  },
  {
   "cell_type": "markdown",
   "metadata": {},
   "source": [
    "The functools library provides a @lru_cache decorator to implement a simple in-memory caching system for Python functions"
   ]
  },
  {
   "cell_type": "code",
   "execution_count": 24,
   "metadata": {},
   "outputs": [
    {
     "name": "stdout",
     "output_type": "stream",
     "text": [
      "1e+03 ms ± 0 ns per loop (mean ± std. dev. of 1 run, 1 loop each)\n",
      "2.2 µs ± 0 ns per loop (mean ± std. dev. of 1 run, 1 loop each)\n"
     ]
    }
   ],
   "source": [
    "import time\n",
    "from functools import lru_cache\n",
    "\n",
    "@lru_cache(maxsize=32)  # keep the latest 32 calls\n",
    "def f2(x):\n",
    "    time.sleep(1)\n",
    "    return x\n",
    "\n",
    "%timeit -n1 -r1 f2(0)\n",
    "%timeit -n1 -r1 f2(0)"
   ]
  },
  {
   "cell_type": "markdown",
   "metadata": {},
   "source": [
    "The new pathlib module offers filesystem facilities that are more convenient to use than the Python 2 os.path methods. The main class is Path:"
   ]
  },
  {
   "cell_type": "code",
   "execution_count": 26,
   "metadata": {},
   "outputs": [
    {
     "data": {
      "text/plain": [
       "[WindowsPath('01,2,3,4. Introduction.ipynb'),\n",
       " WindowsPath('05. Data structures.ipynb'),\n",
       " WindowsPath('06. Modules.ipynb'),\n",
       " WindowsPath('07. Input and Output.ipynb'),\n",
       " WindowsPath('08. Errors and Exceptions.ipynb'),\n",
       " WindowsPath('09. Classes.ipynb'),\n",
       " WindowsPath('10. Brief Tour of the Standard Library.ipynb'),\n",
       " WindowsPath('11. Brief Tour of the Standard Library — Part II.ipynb'),\n",
       " WindowsPath('12 Extras.ipynb')]"
      ]
     },
     "execution_count": 26,
     "metadata": {},
     "output_type": "execute_result"
    }
   ],
   "source": [
    "from pathlib import Path\n",
    "p = Path('.')\n",
    "sorted(p.glob('*.ipynb'))"
   ]
  },
  {
   "cell_type": "code",
   "execution_count": 27,
   "metadata": {},
   "outputs": [
    {
     "data": {
      "text/plain": [
       "'{\\n \"cells\": [\\n  {\\n   \"cell_type\": \"markdown\",\\n   \"metadata\": {},\\n   \"source\": [\\n    \"<div style=\\\\\"text-align: center;\\\\\"><img src=\\\\\"https://www.python.org/static/img/python-logo.png\\\\\"></div>\"\\n   ]\\n  },\\n  {\\n   \"cell_type\": \"markdown\",\\n   \"metadata\": {},\\n   \"source\": [\\n    \"# An informal introduction to Python\\\\n\",\\n    \"\\\\n\",\\n    \"Python is a popular programming language that is reliable, flexible, easy to learn, free to use on all operating systems, and supported by both a strong developer community and many free libraries. Python supports all manners of development, including web applications, web services, desktop apps, scripting, data science, scientific computing, and Jupyter notebooks. Python is a language used by many universities, scientists, casual developers, and professional developers alike.\\\\n\",\\n    \"\\\\n\",\\n    \"You can learn more about the language on [python.org](https://www.python.org/) and [Python for Beginners](https://www.python.org/about/gettingstarted/).\\\\n\",\\n    \"\\\\n\",\\n    \"This walkthrough is a Jupyter notebook version of the [python.org introductory tutorial](https://docs.python.org/3.5/tutorial/introduction.html), with some edits and amendments. Because all the code is inside code cells, you can just run each code cell inline rather than using a separate Python interactive window.\\\\n\",\\n    \"\\\\n\",\\n    \"This introduction is written for Python 3.6.7 but is generally applicable to other Python 3.x versions. \\\\n\",\\n    \"\\\\n\",\\n    \"The original material is Copyright (c) 2001-2018 Python Software Foundation.\\\\n\",\\n    \"\\\\n\",\\n    \"&gt; **Note**: This notebook is designed to have you run code cells one by one, and several code cells contain deliberate errors for demonstration purposes. As a result, if you use the **Cell** &gt; **Run All** command, some code cells past the error won\\'t be run. To resume running the code in each case, use **Cell** &gt; **Run All Below** from the cell after the error.\"\\n   ]\\n  },\\n  {\\n   \"cell_type\": \"markdown\",\\n   \"metadata\": {},\\n   \"source\": [\\n    \"## Comments\\\\n\",\\n    \"\\\\n\",\\n    \"Many of the examples in this notebook include comments. Comments in Python start with the hash character, `#`, and extend to the end of the physical line. A comment may appear at the start of a line or following whitespace or code, but not within a string literal. A hash character within a string literal is just a hash character. Since comments are to clarify code and are not interpreted by Python, they may be omitted when typing in examples.\\\\n\",\\n    \"\\\\n\",\\n    \"Some examples:\"\\n   ]\\n  },\\n  {\\n   \"cell_type\": \"code\",\\n   \"execution_count\": 1,\\n   \"metadata\": {},\\n   \"outputs\": [\\n    {\\n     \"name\": \"stdout\",\\n     \"output_type\": \"stream\",\\n     \"text\": [\\n      \"# This is not a comment because it\\'s inside quotes.\\\\n\"\\n     ]\\n    }\\n   ],\\n   \"source\": [\\n    \"# this is the first comment\\\\n\",\\n    \"spam = 1  # and this is the second comment\\\\n\",\\n    \"          # ... and now a third!\\\\n\",\\n    \"text = \\\\\"# This is not a comment because it\\'s inside quotes.\\\\\"\\\\n\",\\n    \"print(text)\"\\n   ]\\n  },\\n  {\\n   \"cell_type\": \"markdown\",\\n   \"metadata\": {},\\n   \"source\": [\\n    \"## Explore basic data types\\\\n\",\\n    \"\\\\n\",\\n    \"Let\\'s try some simple Python commands to explore numbers, strings, and lists.\"\\n   ]\\n  },\\n  {\\n   \"cell_type\": \"markdown\",\\n   \"metadata\": {},\\n   \"source\": [\\n    \"### Numbers\\\\n\",\\n    \"\\\\n\",\\n    \"The Python interpreter can act as a simple calculator: type an expression at it outputs the value.\\\\n\",\\n    \"\\\\n\",\\n    \"Expression syntax is straightforward: the operators `+`, `-`, `*` and `/` work just like in most other programming languages (such as Pascal or C); parentheses (`()`) can be used for grouping and order or precedence. For example:\"\\n   ]\\n  },\\n  {\\n   \"cell_type\": \"code\",\\n   \"execution_count\": 2,\\n   \"metadata\": {},\\n   \"outputs\": [\\n    {\\n     \"data\": {\\n      \"text/plain\": [\\n       \"4\"\\n      ]\\n     },\\n     \"execution_count\": 2,\\n     \"metadata\": {},\\n     \"output_type\": \"execute_result\"\\n    }\\n   ],\\n   \"source\": [\\n    \"2 + 2\"\\n   ]\\n  },\\n  {\\n   \"cell_type\": \"code\",\\n   \"execution_count\": 3,\\n   \"metadata\": {},\\n   \"outputs\": [\\n    {\\n     \"data\": {\\n      \"text/plain\": [\\n       \"20\"\\n      ]\\n     },\\n     \"execution_count\": 3,\\n     \"metadata\": {},\\n     \"output_type\": \"execute_result\"\\n    }\\n   ],\\n   \"source\": [\\n    \"50 - 5*6\"\\n   ]\\n  },\\n  {\\n   \"cell_type\": \"code\",\\n   \"execution_count\": 4,\\n   \"metadata\": {},\\n   \"outputs\": [\\n    {\\n     \"data\": {\\n      \"text/plain\": [\\n       \"5.0\"\\n      ]\\n     },\\n     \"execution_count\": 4,\\n     \"metadata\": {},\\n     \"output_type\": \"execute_result\"\\n    }\\n   ],\\n   \"source\": [\\n    \"(50 - 5*6) / 4\"\\n   ]\\n  },\\n  {\\n   \"cell_type\": \"code\",\\n   \"execution_count\": 5,\\n   \"metadata\": {},\\n   \"outputs\": [\\n    {\\n     \"data\": {\\n      \"text/plain\": [\\n       \"1.6\"\\n      ]\\n     },\\n     \"execution_count\": 5,\\n     \"metadata\": {},\\n     \"output_type\": \"execute_result\"\\n    }\\n   ],\\n   \"source\": [\\n    \"8 / 5  # Division always returns a floating point number.\"\\n   ]\\n  },\\n  {\\n   \"cell_type\": \"markdown\",\\n   \"metadata\": {},\\n   \"source\": [\\n    \"The integer numbers (e.g. `2`, `4`, `20`) have type [`int`](https://docs.python.org/3.5/library/functions.html#int), the ones with a fractional part (e.g. `5.0`, `1.6`) have type [`float`](https://docs.python.org/3.5/library/functions.html#float). We\\'ll see more about numeric types later in the tutorial.\\\\n\",\\n    \"\\\\n\",\\n    \"Division (`/`) always returns a float. To do [floor division](https://docs.python.org/3.5/glossary.html#term-floor-division) and get an integer result (discarding any fractional result) you can use the `//` operator; to calculate the remainder you can use `%`:\"\\n   ]\\n  },\\n  {\\n   \"cell_type\": \"code\",\\n   \"execution_count\": 6,\\n   \"metadata\": {},\\n   \"outputs\": [\\n    {\\n     \"data\": {\\n      \"text/plain\": [\\n       \"5.666666666666667\"\\n      ]\\n     },\\n     \"execution_count\": 6,\\n     \"metadata\": {},\\n     \"output_type\": \"execute_result\"\\n    }\\n   ],\\n   \"source\": [\\n    \"17 / 3  # Classic division returns a float.\"\\n   ]\\n  },\\n  {\\n   \"cell_type\": \"code\",\\n   \"execution_count\": 7,\\n   \"metadata\": {},\\n   \"outputs\": [\\n    {\\n     \"data\": {\\n      \"text/plain\": [\\n       \"5\"\\n      ]\\n     },\\n     \"execution_count\": 7,\\n     \"metadata\": {},\\n     \"output_type\": \"execute_result\"\\n    }\\n   ],\\n   \"source\": [\\n    \"17 // 3  # Floor division discards the fractional part.\"\\n   ]\\n  },\\n  {\\n   \"cell_type\": \"code\",\\n   \"execution_count\": 8,\\n   \"metadata\": {},\\n   \"outputs\": [\\n    {\\n     \"data\": {\\n      \"text/plain\": [\\n       \"2\"\\n      ]\\n     },\\n     \"execution_count\": 8,\\n     \"metadata\": {},\\n     \"output_type\": \"execute_result\"\\n    }\\n   ],\\n   \"source\": [\\n    \"17 % 3  # The % operator returns the remainder of the division.\"\\n   ]\\n  },\\n  {\\n   \"cell_type\": \"code\",\\n   \"execution_count\": 9,\\n   \"metadata\": {},\\n   \"outputs\": [\\n    {\\n     \"data\": {\\n      \"text/plain\": [\\n       \"17\"\\n      ]\\n     },\\n     \"execution_count\": 9,\\n     \"metadata\": {},\\n     \"output_type\": \"execute_result\"\\n    }\\n   ],\\n   \"source\": [\\n    \"5 * 3 + 2  # result * divisor + remainder\"\\n   ]\\n  },\\n  {\\n   \"cell_type\": \"markdown\",\\n   \"metadata\": {},\\n   \"source\": [\\n    \"Use the `**` operator to calculate powers:\"\\n   ]\\n  },\\n  {\\n   \"cell_type\": \"code\",\\n   \"execution_count\": 10,\\n   \"metadata\": {},\\n   \"outputs\": [\\n    {\\n     \"data\": {\\n      \"text/plain\": [\\n       \"25\"\\n      ]\\n     },\\n     \"execution_count\": 10,\\n     \"metadata\": {},\\n     \"output_type\": \"execute_result\"\\n    }\\n   ],\\n   \"source\": [\\n    \"5 ** 2  # 5 squared\"\\n   ]\\n  },\\n  {\\n   \"cell_type\": \"code\",\\n   \"execution_count\": 11,\\n   \"metadata\": {},\\n   \"outputs\": [\\n    {\\n     \"data\": {\\n      \"text/plain\": [\\n       \"128\"\\n      ]\\n     },\\n     \"execution_count\": 11,\\n     \"metadata\": {},\\n     \"output_type\": \"execute_result\"\\n    }\\n   ],\\n   \"source\": [\\n    \"2 ** 7  # 2 to the power of 7\"\\n   ]\\n  },\\n  {\\n   \"cell_type\": \"markdown\",\\n   \"metadata\": {},\\n   \"source\": [\\n    \"`**` has higher precedence than `-`; if you want a negative base, use parentheses:\"\\n   ]\\n  },\\n  {\\n   \"cell_type\": \"code\",\\n   \"execution_count\": 12,\\n   \"metadata\": {},\\n   \"outputs\": [\\n    {\\n     \"data\": {\\n      \"text/plain\": [\\n       \"-9\"\\n      ]\\n     },\\n     \"execution_count\": 12,\\n     \"metadata\": {},\\n     \"output_type\": \"execute_result\"\\n    }\\n   ],\\n   \"source\": [\\n    \"-3**2  # Same as -(3**2)\"\\n   ]\\n  },\\n  {\\n   \"cell_type\": \"code\",\\n   \"execution_count\": 13,\\n   \"metadata\": {},\\n   \"outputs\": [\\n    {\\n     \"data\": {\\n      \"text/plain\": [\\n       \"9\"\\n      ]\\n     },\\n     \"execution_count\": 13,\\n     \"metadata\": {},\\n     \"output_type\": \"execute_result\"\\n    }\\n   ],\\n   \"source\": [\\n    \"(-3)**2\"\\n   ]\\n  },\\n  {\\n   \"cell_type\": \"markdown\",\\n   \"metadata\": {},\\n   \"source\": [\\n    \"The equal sign (`=`) assigns a value to a variable:\"\\n   ]\\n  },\\n  {\\n   \"cell_type\": \"code\",\\n   \"execution_count\": 14,\\n   \"metadata\": {},\\n   \"outputs\": [\\n    {\\n     \"data\": {\\n      \"text/plain\": [\\n       \"9000\"\\n      ]\\n     },\\n     \"execution_count\": 14,\\n     \"metadata\": {},\\n     \"output_type\": \"execute_result\"\\n    }\\n   ],\\n   \"source\": [\\n    \"width = 20\\\\n\",\\n    \"height = 5 * 90\\\\n\",\\n    \"width * height\"\\n   ]\\n  },\\n  {\\n   \"cell_type\": \"markdown\",\\n   \"metadata\": {},\\n   \"source\": [\\n    \"If a variable is not \\\\\"defined\\\\\" (assigned a value), using it produces an error:\"\\n   ]\\n  },\\n  {\\n   \"cell_type\": \"code\",\\n   \"execution_count\": 15,\\n   \"metadata\": {},\\n   \"outputs\": [\\n    {\\n     \"ename\": \"NameError\",\\n     \"evalue\": \"name \\'n\\' is not defined\",\\n     \"output_type\": \"error\",\\n     \"traceback\": [\\n      \"\\\\u001b[0;31m---------------------------------------------------------------------------\\\\u001b[0m\",\\n      \"\\\\u001b[0;31mNameError\\\\u001b[0m                                 Traceback (most recent call last)\",\\n      \"\\\\u001b[0;32m<ipython-input-15-2d383632fd8e>\\\\u001b[0m in \\\\u001b[0;36m<module>\\\\u001b[0;34m\\\\u001b[0m\\\\n\\\\u001b[0;32m----> 1\\\\u001b[0;31m \\\\u001b[0mn\\\\u001b[0m  \\\\u001b[0;31m# Try to access an undefined variable.\\\\u001b[0m\\\\u001b[0;34m\\\\u001b[0m\\\\u001b[0m\\\\n\\\\u001b[0m\",\\n      \"\\\\u001b[0;31mNameError\\\\u001b[0m: name \\'n\\' is not defined\"\\n     ]\\n    }\\n   ],\\n   \"source\": [\\n    \"n  # Try to access an undefined variable.\"\\n   ]\\n  },\\n  {\\n   \"cell_type\": \"markdown\",\\n   \"metadata\": {},\\n   \"source\": [\\n    \"Python provides full support for floating point numbers; operators with mixed type operands convert the integer operand to floating point:\"\\n   ]\\n  },\\n  {\\n   \"cell_type\": \"code\",\\n   \"execution_count\": 16,\\n   \"metadata\": {},\\n   \"outputs\": [\\n    {\\n     \"data\": {\\n      \"text/plain\": [\\n       \"7.5\"\\n      ]\\n     },\\n     \"execution_count\": 16,\\n     \"metadata\": {},\\n     \"output_type\": \"execute_result\"\\n    }\\n   ],\\n   \"source\": [\\n    \"3 * 3.75 / 1.5\"\\n   ]\\n  },\\n  {\\n   \"cell_type\": \"code\",\\n   \"execution_count\": 17,\\n   \"metadata\": {},\\n   \"outputs\": [\\n    {\\n     \"data\": {\\n      \"text/plain\": [\\n       \"3.5\"\\n      ]\\n     },\\n     \"execution_count\": 17,\\n     \"metadata\": {},\\n     \"output_type\": \"execute_result\"\\n    }\\n   ],\\n   \"source\": [\\n    \"7.0 / 2\"\\n   ]\\n  },\\n  {\\n   \"cell_type\": \"markdown\",\\n   \"metadata\": {},\\n   \"source\": [\\n    \"In interactive mode and in Jupyter notebooks, the last printed expression is assigned to the variable `_`. This means that when you\\'re using Python as a desk calculator, its somewhat easier to continue calculations. For example:\"\\n   ]\\n  },\\n  {\\n   \"cell_type\": \"code\",\\n   \"execution_count\": 18,\\n   \"metadata\": {},\\n   \"outputs\": [\\n    {\\n     \"data\": {\\n      \"text/plain\": [\\n       \"12.5625\"\\n      ]\\n     },\\n     \"execution_count\": 18,\\n     \"metadata\": {},\\n     \"output_type\": \"execute_result\"\\n    }\\n   ],\\n   \"source\": [\\n    \"tax = 12.5 / 100\\\\n\",\\n    \"price = 100.50\\\\n\",\\n    \"price * tax\"\\n   ]\\n  },\\n  {\\n   \"cell_type\": \"code\",\\n   \"execution_count\": 19,\\n   \"metadata\": {},\\n   \"outputs\": [\\n    {\\n     \"data\": {\\n      \"text/plain\": [\\n       \"113.0625\"\\n      ]\\n     },\\n     \"execution_count\": 19,\\n     \"metadata\": {},\\n     \"output_type\": \"execute_result\"\\n    }\\n   ],\\n   \"source\": [\\n    \"price + _\"\\n   ]\\n  },\\n  {\\n   \"cell_type\": \"code\",\\n   \"execution_count\": 20,\\n   \"metadata\": {},\\n   \"outputs\": [\\n    {\\n     \"data\": {\\n      \"text/plain\": [\\n       \"113.06\"\\n      ]\\n     },\\n     \"execution_count\": 20,\\n     \"metadata\": {},\\n     \"output_type\": \"execute_result\"\\n    }\\n   ],\\n   \"source\": [\\n    \"round(_, 2)\"\\n   ]\\n  },\\n  {\\n   \"cell_type\": \"markdown\",\\n   \"metadata\": {},\\n   \"source\": [\\n    \"Treat the `_` variable as read-only. Don\\'t explicitly assign a value to it--doing so creates an independent local variable with the same name, thereby masking the built-in variable with its magic behavior.\\\\n\",\\n    \"\\\\n\",\\n    \"In addition to `int` and `float`, Python supports other types of numbers, such as [`Decimal`](https://docs.python.org/3.5/library/decimal.html#decimal.Decimal) and [`Fraction`](https://docs.python.org/3.5/library/fractions.html#fractions.Fraction). Python also has built-in support for [complex numbers](https://docs.python.org/3.5/library/stdtypes.html#typesnumeric), and uses the `j` or `J` suffix to indicate the imaginary part (e.g. `3+5j`).\"\\n   ]\\n  },\\n  {\\n   \"cell_type\": \"markdown\",\\n   \"metadata\": {},\\n   \"source\": [\\n    \"### Strings\"\\n   ]\\n  },\\n  {\\n   \"cell_type\": \"markdown\",\\n   \"metadata\": {},\\n   \"source\": [\\n    \"Besides numbers, Python can also manipulate strings. Strings can enclosed in single quotes (`\\'...\\'`) or double quotes (`\\\\\"...\\\\\"`) with the same result. Use `\\\\\\\\` to escape quotes, that is, to use a quote within the string itself:\"\\n   ]\\n  },\\n  {\\n   \"cell_type\": \"code\",\\n   \"execution_count\": 21,\\n   \"metadata\": {},\\n   \"outputs\": [\\n    {\\n     \"data\": {\\n      \"text/plain\": [\\n       \"\\'spam eggs\\'\"\\n      ]\\n     },\\n     \"execution_count\": 21,\\n     \"metadata\": {},\\n     \"output_type\": \"execute_result\"\\n    }\\n   ],\\n   \"source\": [\\n    \"\\'spam eggs\\'  # Single quotes.\"\\n   ]\\n  },\\n  {\\n   \"cell_type\": \"code\",\\n   \"execution_count\": 22,\\n   \"metadata\": {},\\n   \"outputs\": [\\n    {\\n     \"data\": {\\n      \"text/plain\": [\\n       \"\\\\\"doesn\\'t\\\\\"\"\\n      ]\\n     },\\n     \"execution_count\": 22,\\n     \"metadata\": {},\\n     \"output_type\": \"execute_result\"\\n    }\\n   ],\\n   \"source\": [\\n    \"\\'doesn\\\\\\\\\\'t\\'  # Use \\\\\\\\\\' to escape the single quote...\"\\n   ]\\n  },\\n  {\\n   \"cell_type\": \"code\",\\n   \"execution_count\": 23,\\n   \"metadata\": {},\\n   \"outputs\": [\\n    {\\n     \"data\": {\\n      \"text/plain\": [\\n       \"\\\\\"doesn\\'t\\\\\"\"\\n      ]\\n     },\\n     \"execution_count\": 23,\\n     \"metadata\": {},\\n     \"output_type\": \"execute_result\"\\n    }\\n   ],\\n   \"source\": [\\n    \"\\\\\"doesn\\'t\\\\\"  # ...or use double quotes instead.\"\\n   ]\\n  },\\n  {\\n   \"cell_type\": \"code\",\\n   \"execution_count\": 24,\\n   \"metadata\": {},\\n   \"outputs\": [\\n    {\\n     \"data\": {\\n      \"text/plain\": [\\n       \"\\'\\\\\"Yes,\\\\\" he said.\\'\"\\n      ]\\n     },\\n     \"execution_count\": 24,\\n     \"metadata\": {},\\n     \"output_type\": \"execute_result\"\\n    }\\n   ],\\n   \"source\": [\\n    \"\\'\\\\\"Yes,\\\\\" he said.\\'\"\\n   ]\\n  },\\n  {\\n   \"cell_type\": \"code\",\\n   \"execution_count\": 25,\\n   \"metadata\": {},\\n   \"outputs\": [\\n    {\\n     \"data\": {\\n      \"text/plain\": [\\n       \"\\'\\\\\"Yes,\\\\\" he said.\\'\"\\n      ]\\n     },\\n     \"execution_count\": 25,\\n     \"metadata\": {},\\n     \"output_type\": \"execute_result\"\\n    }\\n   ],\\n   \"source\": [\\n    \"\\\\\"\\\\\\\\\\\\\"Yes,\\\\\\\\\\\\\" he said.\\\\\"\"\\n   ]\\n  },\\n  {\\n   \"cell_type\": \"code\",\\n   \"execution_count\": null,\\n   \"metadata\": {},\\n   \"outputs\": [],\\n   \"source\": [\\n    \"\\'\\\\\"Isn\\\\\\\\\\'t,\\\\\" she said.\\'\"\\n   ]\\n  },\\n  {\\n   \"cell_type\": \"markdown\",\\n   \"metadata\": {},\\n   \"source\": [\\n    \"In the interactive interpreter and Jupyter notebooks, the output string is enclosed in quotes and special characters are escaped with backslashes. Although this output sometimes looks different from the input (the enclosing quotes could change), the two strings are equivalent. The string is enclosed in double quotes if the string contains a single quote and no double quotes, otherwise its enclosed in single quotes. The [`print()`](https://docs.python.org/3.6/library/functions.html#print) function produces a more readable output by omitting the enclosing quotes and by printing escaped and special characters:\"\\n   ]\\n  },\\n  {\\n   \"cell_type\": \"code\",\\n   \"execution_count\": 2,\\n   \"metadata\": {},\\n   \"outputs\": [\\n    {\\n     \"data\": {\\n      \"text/plain\": [\\n       \"\\'\\\\\"Isn\\\\\\\\\\'t,\\\\\" she said.\\'\"\\n      ]\\n     },\\n     \"execution_count\": 2,\\n     \"metadata\": {},\\n     \"output_type\": \"execute_result\"\\n    }\\n   ],\\n   \"source\": [\\n    \"\\'\\\\\"Isn\\\\\\\\\\'t,\\\\\" she said.\\'\"\\n   ]\\n  },\\n  {\\n   \"cell_type\": \"code\",\\n   \"execution_count\": 3,\\n   \"metadata\": {},\\n   \"outputs\": [\\n    {\\n     \"name\": \"stdout\",\\n     \"output_type\": \"stream\",\\n     \"text\": [\\n      \"\\\\\"Isn\\'t,\\\\\" she said.\\\\n\"\\n     ]\\n    }\\n   ],\\n   \"source\": [\\n    \"print(\\'\\\\\"Isn\\\\\\\\\\'t,\\\\\" she said.\\')\"\\n   ]\\n  },\\n  {\\n   \"cell_type\": \"code\",\\n   \"execution_count\": 4,\\n   \"metadata\": {},\\n   \"outputs\": [\\n    {\\n     \"data\": {\\n      \"text/plain\": [\\n       \"\\'First line.\\\\\\\\nSecond line.\\'\"\\n      ]\\n     },\\n     \"execution_count\": 4,\\n     \"metadata\": {},\\n     \"output_type\": \"execute_result\"\\n    }\\n   ],\\n   \"source\": [\\n    \"s = \\'First line.\\\\\\\\nSecond line.\\'  # \\\\\\\\n means newline.\\\\n\",\\n    \"s  # Without print(), \\\\\\\\n is included in the output.\"\\n   ]\\n  },\\n  {\\n   \"cell_type\": \"code\",\\n   \"execution_count\": 5,\\n   \"metadata\": {},\\n   \"outputs\": [\\n    {\\n     \"name\": \"stdout\",\\n     \"output_type\": \"stream\",\\n     \"text\": [\\n      \"First line.\\\\n\",\\n      \"Second line.\\\\n\"\\n     ]\\n    }\\n   ],\\n   \"source\": [\\n    \"print(s)  # With print(), \\\\\\\\n produces a new line.\"\\n   ]\\n  },\\n  {\\n   \"cell_type\": \"markdown\",\\n   \"metadata\": {},\\n   \"source\": [\\n    \"If you don\\'t want escaped characters (prefaced by `\\\\\\\\`) to be interpreted as special characters, use *raw strings* by adding an `r` before the first quote:\"\\n   ]\\n  },\\n  {\\n   \"cell_type\": \"code\",\\n   \"execution_count\": 6,\\n   \"metadata\": {},\\n   \"outputs\": [\\n    {\\n     \"name\": \"stdout\",\\n     \"output_type\": \"stream\",\\n     \"text\": [\\n      \"C:\\\\\\\\some\\\\n\",\\n      \"ame\\\\n\"\\n     ]\\n    }\\n   ],\\n   \"source\": [\\n    \"print(\\'C:\\\\\\\\some\\\\\\\\name\\')  # Here \\\\\\\\n means newline!\"\\n   ]\\n  },\\n  {\\n   \"cell_type\": \"code\",\\n   \"execution_count\": 7,\\n   \"metadata\": {},\\n   \"outputs\": [\\n    {\\n     \"name\": \"stdout\",\\n     \"output_type\": \"stream\",\\n     \"text\": [\\n      \"C:\\\\\\\\some\\\\\\\\name\\\\n\"\\n     ]\\n    }\\n   ],\\n   \"source\": [\\n    \"print(r\\'C:\\\\\\\\some\\\\\\\\name\\')  # Note the r before the quote.\"\\n   ]\\n  },\\n  {\\n   \"cell_type\": \"markdown\",\\n   \"metadata\": {},\\n   \"source\": [\\n    \"String literals can span multiple lines and are delineated by triple-quotes: `\\\\\"\\\\\"\\\\\"...\\\\\"\\\\\"\\\\\"` or `\\'\\'\\'...\\'\\'\\'`. End of lines are automatically included in the string, but it\\'s possible to prevent this by adding a `\\\\\\\\` at the end of the line. For example, without a `\\\\\\\\`, the following example includes an extra line at the beginning of the output:\"\\n   ]\\n  },\\n  {\\n   \"cell_type\": \"code\",\\n   \"execution_count\": 8,\\n   \"metadata\": {},\\n   \"outputs\": [\\n    {\\n     \"name\": \"stdout\",\\n     \"output_type\": \"stream\",\\n     \"text\": [\\n      \"\\\\n\",\\n      \"Usage: thingy [OPTIONS]\\\\n\",\\n      \"     -h                        Display this usage message\\\\n\",\\n      \"     -H hostname               Hostname to connect to\\\\n\",\\n      \"\\\\n\"\\n     ]\\n    }\\n   ],\\n   \"source\": [\\n    \"print(\\\\\"\\\\\"\\\\\"\\\\n\",\\n    \"Usage: thingy [OPTIONS]\\\\n\",\\n    \"     -h                        Display this usage message\\\\n\",\\n    \"     -H hostname               Hostname to connect to\\\\n\",\\n    \"\\\\\"\\\\\"\\\\\")\"\\n   ]\\n  },\\n  {\\n   \"cell_type\": \"markdown\",\\n   \"metadata\": {},\\n   \"source\": [\\n    \"Adding a `\\\\\\\\` removes that extra line:\"\\n   ]\\n  },\\n  {\\n   \"cell_type\": \"code\",\\n   \"execution_count\": 12,\\n   \"metadata\": {},\\n   \"outputs\": [\\n    {\\n     \"name\": \"stdout\",\\n     \"output_type\": \"stream\",\\n     \"text\": [\\n      \"\\\\n\",\\n      \"Usage: thingy [OPTIONS]\\\\n\",\\n      \"     -h                        Display this usage message\\\\n\",\\n      \"     -H hostname               Hostname to connect to\\\\n\",\\n      \"\\\\n\"\\n     ]\\n    }\\n   ],\\n   \"source\": [\\n    \"print(\\\\\"\\\\\"\\\\\"\\\\n\",\\n    \"Usage: thingy [OPTIONS]\\\\n\",\\n    \"     -h                        Display this usage message\\\\n\",\\n    \"     -H hostname               Hostname to connect to\\\\n\",\\n    \"\\\\\"\\\\\"\\\\\")\"\\n   ]\\n  },\\n  {\\n   \"cell_type\": \"markdown\",\\n   \"metadata\": {},\\n   \"source\": [\\n    \"Because Python doesn\\'t provide a means for creating multi-line comments, developers often just use triple quotes for this purpose. In a Jupyter notebook, however, such quotes define a string literal which appears as the output of a code cell:\"\\n   ]\\n  },\\n  {\\n   \"cell_type\": \"code\",\\n   \"execution_count\": 13,\\n   \"metadata\": {},\\n   \"outputs\": [\\n    {\\n     \"data\": {\\n      \"text/plain\": [\\n       \"\\\\\"\\\\\\\\nEverything between the first three quotes, including new lines,\\\\\\\\nis part of the multi-line comment. Technically, the Python interpreter\\\\\\\\nsimply sees the comment as a string, and because it\\'s not otherwise\\\\\\\\nused in code, the string is ignored. Convenient, eh?\\\\\\\\n\\\\\"\"\\n      ]\\n     },\\n     \"execution_count\": 13,\\n     \"metadata\": {},\\n     \"output_type\": \"execute_result\"\\n    }\\n   ],\\n   \"source\": [\\n    \"\\\\\"\\\\\"\\\\\"\\\\n\",\\n    \"Everything between the first three quotes, including new lines,\\\\n\",\\n    \"is part of the multi-line comment. Technically, the Python interpreter\\\\n\",\\n    \"simply sees the comment as a string, and because it\\'s not otherwise\\\\n\",\\n    \"used in code, the string is ignored. Convenient, eh?\\\\n\",\\n    \"\\\\\"\\\\\"\\\\\"\"\\n   ]\\n  },\\n  {\\n   \"cell_type\": \"markdown\",\\n   \"metadata\": {},\\n   \"source\": [\\n    \"For this reason, it\\'s best in notebooks to use the `#` comment character at the beginning of each line, or better still, just use a Markdown cell!\"\\n   ]\\n  },\\n  {\\n   \"cell_type\": \"markdown\",\\n   \"metadata\": {},\\n   \"source\": [\\n    \"Strings can be *concatenated* (glued together) with the `+` operator, and repeated with `*`:\"\\n   ]\\n  },\\n  {\\n   \"cell_type\": \"code\",\\n   \"execution_count\": 19,\\n   \"metadata\": {},\\n   \"outputs\": [\\n    {\\n     \"data\": {\\n      \"text/plain\": [\\n       \"\\'umnumnumium\\'\"\\n      ]\\n     },\\n     \"execution_count\": 19,\\n     \"metadata\": {},\\n     \"output_type\": \"execute_result\"\\n    }\\n   ],\\n   \"source\": [\\n    \"# 3 times \\'un\\', followed by \\'ium\\'\\\\n\",\\n    \"\\'um\\' + \\'num\\'*2 + \\'ium\\'\"\\n   ]\\n  },\\n  {\\n   \"cell_type\": \"markdown\",\\n   \"metadata\": {},\\n   \"source\": [\\n    \"Two or more *string literals* (that is, the values enclosed in quotes) placed next to each other are automatically concatenated:\"\\n   ]\\n  },\\n  {\\n   \"cell_type\": \"code\",\\n   \"execution_count\": 22,\\n   \"metadata\": {},\\n   \"outputs\": [\\n    {\\n     \"data\": {\\n      \"text/plain\": [\\n       \"\\'Python\\'\"\\n      ]\\n     },\\n     \"execution_count\": 22,\\n     \"metadata\": {},\\n     \"output_type\": \"execute_result\"\\n    }\\n   ],\\n   \"source\": [\\n    \"\\'Py\\' \\'thon\\'\"\\n   ]\\n  },\\n  {\\n   \"cell_type\": \"markdown\",\\n   \"metadata\": {},\\n   \"source\": [\\n    \"Automatic concatenation works only with two literals; it does not work with variables or expressions, so the following cell produces an error:\"\\n   ]\\n  },\\n  {\\n   \"cell_type\": \"code\",\\n   \"execution_count\": 23,\\n   \"metadata\": {},\\n   \"outputs\": [\\n    {\\n     \"ename\": \"SyntaxError\",\\n     \"evalue\": \"invalid syntax (<ipython-input-23-00ad70cd97bc>, line 2)\",\\n     \"output_type\": \"error\",\\n     \"traceback\": [\\n      \"\\\\u001b[0;36m  File \\\\u001b[0;32m\\\\\"<ipython-input-23-00ad70cd97bc>\\\\\"\\\\u001b[0;36m, line \\\\u001b[0;32m2\\\\u001b[0m\\\\n\\\\u001b[0;31m    prefix \\'thon\\'  # Can\\'t concatenate a variable and a string literal.\\\\u001b[0m\\\\n\\\\u001b[0m                ^\\\\u001b[0m\\\\n\\\\u001b[0;31mSyntaxError\\\\u001b[0m\\\\u001b[0;31m:\\\\u001b[0m invalid syntax\\\\n\"\\n     ]\\n    }\\n   ],\\n   \"source\": [\\n    \"prefix = \\'Py\\'\\\\n\",\\n    \"prefix \\'thon\\'  # Can\\'t concatenate a variable and a string literal.\"\\n   ]\\n  },\\n  {\\n   \"cell_type\": \"markdown\",\\n   \"metadata\": {},\\n   \"source\": [\\n    \"The following cell likewise produces an error:\"\\n   ]\\n  },\\n  {\\n   \"cell_type\": \"code\",\\n   \"execution_count\": 26,\\n   \"metadata\": {},\\n   \"outputs\": [\\n    {\\n     \"ename\": \"SyntaxError\",\\n     \"evalue\": \"invalid syntax (<ipython-input-26-f4764cbe42a8>, line 1)\",\\n     \"output_type\": \"error\",\\n     \"traceback\": [\\n      \"\\\\u001b[0;36m  File \\\\u001b[0;32m\\\\\"<ipython-input-26-f4764cbe42a8>\\\\\"\\\\u001b[0;36m, line \\\\u001b[0;32m1\\\\u001b[0m\\\\n\\\\u001b[0;31m    (\\'un\\' * 3) \\'ium\\'\\\\u001b[0m\\\\n\\\\u001b[0m                   ^\\\\u001b[0m\\\\n\\\\u001b[0;31mSyntaxError\\\\u001b[0m\\\\u001b[0;31m:\\\\u001b[0m invalid syntax\\\\n\"\\n     ]\\n    }\\n   ],\\n   \"source\": [\\n    \"(\\'un\\' * 3) \\'ium\\'\"\\n   ]\\n  },\\n  {\\n   \"cell_type\": \"markdown\",\\n   \"metadata\": {},\\n   \"source\": [\\n    \"To concatenate variables, or a variable and a literal, use `+`:\"\\n   ]\\n  },\\n  {\\n   \"cell_type\": \"code\",\\n   \"execution_count\": 27,\\n   \"metadata\": {},\\n   \"outputs\": [\\n    {\\n     \"data\": {\\n      \"text/plain\": [\\n       \"\\'Python\\'\"\\n      ]\\n     },\\n     \"execution_count\": 27,\\n     \"metadata\": {},\\n     \"output_type\": \"execute_result\"\\n    }\\n   ],\\n   \"source\": [\\n    \"prefix = \\'Py\\'\\\\n\",\\n    \"prefix + \\'thon\\'\"\\n   ]\\n  },\\n  {\\n   \"cell_type\": \"markdown\",\\n   \"metadata\": {},\\n   \"source\": [\\n    \"Automatic concatenation is particularly useful when you want to break up long strings:\"\\n   ]\\n  },\\n  {\\n   \"cell_type\": \"code\",\\n   \"execution_count\": 28,\\n   \"metadata\": {},\\n   \"outputs\": [\\n    {\\n     \"data\": {\\n      \"text/plain\": [\\n       \"\\'Put several strings within parentheses to have them joined together.\\'\"\\n      ]\\n     },\\n     \"execution_count\": 28,\\n     \"metadata\": {},\\n     \"output_type\": \"execute_result\"\\n    }\\n   ],\\n   \"source\": [\\n    \"text = (\\'Put several strings within parentheses \\'\\\\n\",\\n    \"            \\'to have them joined together.\\')\\\\n\",\\n    \"text\"\\n   ]\\n  },\\n  {\\n   \"cell_type\": \"markdown\",\\n   \"metadata\": {},\\n   \"source\": [\\n    \"Strings can be *indexed* (subscripted), with the first character having index 0. There is no separate character type; a character is simply a string of size one:\"\\n   ]\\n  },\\n  {\\n   \"cell_type\": \"code\",\\n   \"execution_count\": 29,\\n   \"metadata\": {},\\n   \"outputs\": [\\n    {\\n     \"data\": {\\n      \"text/plain\": [\\n       \"\\'P\\'\"\\n      ]\\n     },\\n     \"execution_count\": 29,\\n     \"metadata\": {},\\n     \"output_type\": \"execute_result\"\\n    }\\n   ],\\n   \"source\": [\\n    \"word = \\'Python\\'\\\\n\",\\n    \"word[0]  # Character in position 0.\"\\n   ]\\n  },\\n  {\\n   \"cell_type\": \"code\",\\n   \"execution_count\": 30,\\n   \"metadata\": {},\\n   \"outputs\": [\\n    {\\n     \"data\": {\\n      \"text/plain\": [\\n       \"\\'n\\'\"\\n      ]\\n     },\\n     \"execution_count\": 30,\\n     \"metadata\": {},\\n     \"output_type\": \"execute_result\"\\n    }\\n   ],\\n   \"source\": [\\n    \"word[5]  # Character in position 5.\"\\n   ]\\n  },\\n  {\\n   \"cell_type\": \"markdown\",\\n   \"metadata\": {},\\n   \"source\": [\\n    \"Indices may also be negative numbers, which means to start counting from the end of the string. Note that because -0 is the same as 0, negative indices start from -1:\"\\n   ]\\n  },\\n  {\\n   \"cell_type\": \"code\",\\n   \"execution_count\": 31,\\n   \"metadata\": {},\\n   \"outputs\": [\\n    {\\n     \"data\": {\\n      \"text/plain\": [\\n       \"\\'n\\'\"\\n      ]\\n     },\\n     \"execution_count\": 31,\\n     \"metadata\": {},\\n     \"output_type\": \"execute_result\"\\n    }\\n   ],\\n   \"source\": [\\n    \"word[-1]  # Last character.\"\\n   ]\\n  },\\n  {\\n   \"cell_type\": \"code\",\\n   \"execution_count\": 32,\\n   \"metadata\": {},\\n   \"outputs\": [\\n    {\\n     \"data\": {\\n      \"text/plain\": [\\n       \"\\'o\\'\"\\n      ]\\n     },\\n     \"execution_count\": 32,\\n     \"metadata\": {},\\n     \"output_type\": \"execute_result\"\\n    }\\n   ],\\n   \"source\": [\\n    \"word[-2]  # Second-last character.\"\\n   ]\\n  },\\n  {\\n   \"cell_type\": \"code\",\\n   \"execution_count\": 33,\\n   \"metadata\": {},\\n   \"outputs\": [\\n    {\\n     \"data\": {\\n      \"text/plain\": [\\n       \"\\'P\\'\"\\n      ]\\n     },\\n     \"execution_count\": 33,\\n     \"metadata\": {},\\n     \"output_type\": \"execute_result\"\\n    }\\n   ],\\n   \"source\": [\\n    \"word[-6]\"\\n   ]\\n  },\\n  {\\n   \"cell_type\": \"markdown\",\\n   \"metadata\": {},\\n   \"source\": [\\n    \"In addition to indexing, which extracts individual characters, Python also supports *slicing*, which extracts a substring. To slide, you indicate a *range* in the format `start:end`, where the start position is included but the end position is excluded:\"\\n   ]\\n  },\\n  {\\n   \"cell_type\": \"code\",\\n   \"execution_count\": 34,\\n   \"metadata\": {},\\n   \"outputs\": [\\n    {\\n     \"data\": {\\n      \"text/plain\": [\\n       \"\\'Py\\'\"\\n      ]\\n     },\\n     \"execution_count\": 34,\\n     \"metadata\": {},\\n     \"output_type\": \"execute_result\"\\n    }\\n   ],\\n   \"source\": [\\n    \"word[0:2]  # Characters from position 0 (included) to 2 (excluded).\"\\n   ]\\n  },\\n  {\\n   \"cell_type\": \"code\",\\n   \"execution_count\": 39,\\n   \"metadata\": {},\\n   \"outputs\": [\\n    {\\n     \"data\": {\\n      \"text/plain\": [\\n       \"\\'tho\\'\"\\n      ]\\n     },\\n     \"execution_count\": 39,\\n     \"metadata\": {},\\n     \"output_type\": \"execute_result\"\\n    }\\n   ],\\n   \"source\": [\\n    \"word[2:5]  # Characters from position 2 (included) to 5 (excluded).\"\\n   ]\\n  },\\n  {\\n   \"cell_type\": \"markdown\",\\n   \"metadata\": {},\\n   \"source\": [\\n    \"If you omit either position, the default start position is 0 and the default end is the length of the string:\"\\n   ]\\n  },\\n  {\\n   \"cell_type\": \"code\",\\n   \"execution_count\": 40,\\n   \"metadata\": {},\\n   \"outputs\": [\\n    {\\n     \"data\": {\\n      \"text/plain\": [\\n       \"\\'Py\\'\"\\n      ]\\n     },\\n     \"execution_count\": 40,\\n     \"metadata\": {},\\n     \"output_type\": \"execute_result\"\\n    }\\n   ],\\n   \"source\": [\\n    \"word[:2]   # Character from the beginning to position 2 (excluded).\"\\n   ]\\n  },\\n  {\\n   \"cell_type\": \"code\",\\n   \"execution_count\": 41,\\n   \"metadata\": {},\\n   \"outputs\": [\\n    {\\n     \"data\": {\\n      \"text/plain\": [\\n       \"\\'on\\'\"\\n      ]\\n     },\\n     \"execution_count\": 41,\\n     \"metadata\": {},\\n     \"output_type\": \"execute_result\"\\n    }\\n   ],\\n   \"source\": [\\n    \"word[4:]  # Characters from position 4 (included) to the end.\"\\n   ]\\n  },\\n  {\\n   \"cell_type\": \"code\",\\n   \"execution_count\": 42,\\n   \"metadata\": {},\\n   \"outputs\": [\\n    {\\n     \"data\": {\\n      \"text/plain\": [\\n       \"\\'on\\'\"\\n      ]\\n     },\\n     \"execution_count\": 42,\\n     \"metadata\": {},\\n     \"output_type\": \"execute_result\"\\n    }\\n   ],\\n   \"source\": [\\n    \"word[-2:] # Characters from the second-last (included) to the end.\"\\n   ]\\n  },\\n  {\\n   \"cell_type\": \"markdown\",\\n   \"metadata\": {},\\n   \"source\": [\\n    \"This characteristic means that `s[:i] + s[i:]` is always equal to `s`:\"\\n   ]\\n  },\\n  {\\n   \"cell_type\": \"code\",\\n   \"execution_count\": 43,\\n   \"metadata\": {},\\n   \"outputs\": [\\n    {\\n     \"data\": {\\n      \"text/plain\": [\\n       \"\\'Python\\'\"\\n      ]\\n     },\\n     \"execution_count\": 43,\\n     \"metadata\": {},\\n     \"output_type\": \"execute_result\"\\n    }\\n   ],\\n   \"source\": [\\n    \"word[:2] + word[2:]\"\\n   ]\\n  },\\n  {\\n   \"cell_type\": \"code\",\\n   \"execution_count\": 45,\\n   \"metadata\": {},\\n   \"outputs\": [\\n    {\\n     \"data\": {\\n      \"text/plain\": [\\n       \"\\'yt\\'\"\\n      ]\\n     },\\n     \"execution_count\": 45,\\n     \"metadata\": {},\\n     \"output_type\": \"execute_result\"\\n    }\\n   ],\\n   \"source\": [\\n    \"word[:4] + word[4:]\"\\n   ]\\n  },\\n  {\\n   \"cell_type\": \"markdown\",\\n   \"metadata\": {},\\n   \"source\": [\\n    \"One way to remember how slices work is to think of the indices as pointing between characters, with the left edge of the first character numbered 0. Then the right edge of the last character of a string of *n* characters has index *n*. For example:\"\\n   ]\\n  },\\n  {\\n   \"cell_type\": \"raw\",\\n   \"metadata\": {},\\n   \"source\": [\\n    \" +---+---+---+---+---+---+\\\\n\",\\n    \" | P | y | t | h | o | n |\\\\n\",\\n    \" +---+---+---+---+---+---+\\\\n\",\\n    \" 0   1   2   3   4   5   6\\\\n\",\\n    \"-6  -5  -4  -3  -2  -1\"\\n   ]\\n  },\\n  {\\n   \"cell_type\": \"markdown\",\\n   \"metadata\": {},\\n   \"source\": [\\n    \"The first row of numbers gives the position of the indices 0...6 in the string; the second row gives the corresponding negative indices. The slice from *i* to *j* consists of all characters between the edges labeled *i* and *j*, respectively.\\\\n\",\\n    \"\\\\n\",\\n    \"For non-negative indices, the length of a slice is the difference of the indices, if both are within bounds. For example, the length of `word[1:3]` is 2.\\\\n\",\\n    \"\\\\n\",\\n    \"Attempting to use an index that is too large results in an error:\"\\n   ]\\n  },\\n  {\\n   \"cell_type\": \"code\",\\n   \"execution_count\": 46,\\n   \"metadata\": {},\\n   \"outputs\": [\\n    {\\n     \"ename\": \"IndexError\",\\n     \"evalue\": \"string index out of range\",\\n     \"output_type\": \"error\",\\n     \"traceback\": [\\n      \"\\\\u001b[0;31m---------------------------------------------------------------------------\\\\u001b[0m\",\\n      \"\\\\u001b[0;31mIndexError\\\\u001b[0m                                Traceback (most recent call last)\",\\n      \"\\\\u001b[0;32m<ipython-input-46-e894f93573ea>\\\\u001b[0m in \\\\u001b[0;36m<module>\\\\u001b[0;34m\\\\u001b[0m\\\\n\\\\u001b[0;32m----> 1\\\\u001b[0;31m \\\\u001b[0mword\\\\u001b[0m\\\\u001b[0;34m[\\\\u001b[0m\\\\u001b[0;36m42\\\\u001b[0m\\\\u001b[0;34m]\\\\u001b[0m  \\\\u001b[0;31m# The word only has 6 characters.\\\\u001b[0m\\\\u001b[0;34m\\\\u001b[0m\\\\u001b[0m\\\\n\\\\u001b[0m\",\\n      \"\\\\u001b[0;31mIndexError\\\\u001b[0m: string index out of range\"\\n     ]\\n    }\\n   ],\\n   \"source\": [\\n    \"word[42]  # The word only has 6 characters.\"\\n   ]\\n  },\\n  {\\n   \"cell_type\": \"markdown\",\\n   \"metadata\": {},\\n   \"source\": [\\n    \"However, when used in a range, an index that\\'s too large defaults to the size of the string and does not give an error. This characteristic is useful when you always want to slice at a particular index regardless of the length of a string:\"\\n   ]\\n  },\\n  {\\n   \"cell_type\": \"code\",\\n   \"execution_count\": 47,\\n   \"metadata\": {},\\n   \"outputs\": [\\n    {\\n     \"data\": {\\n      \"text/plain\": [\\n       \"\\'on\\'\"\\n      ]\\n     },\\n     \"execution_count\": 47,\\n     \"metadata\": {},\\n     \"output_type\": \"execute_result\"\\n    }\\n   ],\\n   \"source\": [\\n    \"word[4:42]\"\\n   ]\\n  },\\n  {\\n   \"cell_type\": \"code\",\\n   \"execution_count\": 48,\\n   \"metadata\": {},\\n   \"outputs\": [\\n    {\\n     \"data\": {\\n      \"text/plain\": [\\n       \"\\'\\'\"\\n      ]\\n     },\\n     \"execution_count\": 48,\\n     \"metadata\": {},\\n     \"output_type\": \"execute_result\"\\n    }\\n   ],\\n   \"source\": [\\n    \"word[42:]\"\\n   ]\\n  },\\n  {\\n   \"cell_type\": \"markdown\",\\n   \"metadata\": {},\\n   \"source\": [\\n    \"Python strings are [immutable](https://docs.python.org/3.5/glossary.html#term-immutable), which means they cannot be changed. Therefore, assigning a value to an indexed position in a string results in an error:\"\\n   ]\\n  },\\n  {\\n   \"cell_type\": \"code\",\\n   \"execution_count\": 49,\\n   \"metadata\": {},\\n   \"outputs\": [\\n    {\\n     \"ename\": \"TypeError\",\\n     \"evalue\": \"\\'str\\' object does not support item assignment\",\\n     \"output_type\": \"error\",\\n     \"traceback\": [\\n      \"\\\\u001b[0;31m---------------------------------------------------------------------------\\\\u001b[0m\",\\n      \"\\\\u001b[0;31mTypeError\\\\u001b[0m                                 Traceback (most recent call last)\",\\n      \"\\\\u001b[0;32m<ipython-input-49-91a956888ca7>\\\\u001b[0m in \\\\u001b[0;36m<module>\\\\u001b[0;34m\\\\u001b[0m\\\\n\\\\u001b[0;32m----> 1\\\\u001b[0;31m \\\\u001b[0mword\\\\u001b[0m\\\\u001b[0;34m[\\\\u001b[0m\\\\u001b[0;36m0\\\\u001b[0m\\\\u001b[0;34m]\\\\u001b[0m \\\\u001b[0;34m=\\\\u001b[0m \\\\u001b[0;34m\\'J\\'\\\\u001b[0m\\\\u001b[0;34m\\\\u001b[0m\\\\u001b[0m\\\\n\\\\u001b[0m\",\\n      \"\\\\u001b[0;31mTypeError\\\\u001b[0m: \\'str\\' object does not support item assignment\"\\n     ]\\n    }\\n   ],\\n   \"source\": [\\n    \"word[0] = \\'J\\'\"\\n   ]\\n  },\\n  {\\n   \"cell_type\": \"markdown\",\\n   \"metadata\": {},\\n   \"source\": [\\n    \"The following cell also produces an error:\"\\n   ]\\n  },\\n  {\\n   \"cell_type\": \"code\",\\n   \"execution_count\": 50,\\n   \"metadata\": {},\\n   \"outputs\": [\\n    {\\n     \"ename\": \"TypeError\",\\n     \"evalue\": \"\\'str\\' object does not support item assignment\",\\n     \"output_type\": \"error\",\\n     \"traceback\": [\\n      \"\\\\u001b[0;31m---------------------------------------------------------------------------\\\\u001b[0m\",\\n      \"\\\\u001b[0;31mTypeError\\\\u001b[0m                                 Traceback (most recent call last)\",\\n      \"\\\\u001b[0;32m<ipython-input-50-6488bbf78f5a>\\\\u001b[0m in \\\\u001b[0;36m<module>\\\\u001b[0;34m\\\\u001b[0m\\\\n\\\\u001b[0;32m----> 1\\\\u001b[0;31m \\\\u001b[0mword\\\\u001b[0m\\\\u001b[0;34m[\\\\u001b[0m\\\\u001b[0;36m2\\\\u001b[0m\\\\u001b[0;34m:\\\\u001b[0m\\\\u001b[0;34m]\\\\u001b[0m \\\\u001b[0;34m=\\\\u001b[0m \\\\u001b[0;34m\\'py\\'\\\\u001b[0m\\\\u001b[0;34m\\\\u001b[0m\\\\u001b[0m\\\\n\\\\u001b[0m\",\\n      \"\\\\u001b[0;31mTypeError\\\\u001b[0m: \\'str\\' object does not support item assignment\"\\n     ]\\n    }\\n   ],\\n   \"source\": [\\n    \"word[2:] = \\'py\\'\"\\n   ]\\n  },\\n  {\\n   \"cell_type\": \"markdown\",\\n   \"metadata\": {},\\n   \"source\": [\\n    \"A slice it itself a value that you can concatenate with other values using `+`:\"\\n   ]\\n  },\\n  {\\n   \"cell_type\": \"code\",\\n   \"execution_count\": 51,\\n   \"metadata\": {},\\n   \"outputs\": [\\n    {\\n     \"data\": {\\n      \"text/plain\": [\\n       \"\\'Jython\\'\"\\n      ]\\n     },\\n     \"execution_count\": 51,\\n     \"metadata\": {},\\n     \"output_type\": \"execute_result\"\\n    }\\n   ],\\n   \"source\": [\\n    \"\\'J\\' + word[1:]\"\\n   ]\\n  },\\n  {\\n   \"cell_type\": \"code\",\\n   \"execution_count\": 52,\\n   \"metadata\": {},\\n   \"outputs\": [\\n    {\\n     \"data\": {\\n      \"text/plain\": [\\n       \"\\'PyPy\\'\"\\n      ]\\n     },\\n     \"execution_count\": 52,\\n     \"metadata\": {},\\n     \"output_type\": \"execute_result\"\\n    }\\n   ],\\n   \"source\": [\\n    \"word[:2] + \\'Py\\'\"\\n   ]\\n  },\\n  {\\n   \"cell_type\": \"markdown\",\\n   \"metadata\": {},\\n   \"source\": [\\n    \"A slice, however, is not a string literal and cannot be used with automatic concatenation. The following code produces an error:\"\\n   ]\\n  },\\n  {\\n   \"cell_type\": \"code\",\\n   \"execution_count\": 53,\\n   \"metadata\": {},\\n   \"outputs\": [\\n    {\\n     \"ename\": \"SyntaxError\",\\n     \"evalue\": \"invalid syntax (<ipython-input-53-60be1c701626>, line 1)\",\\n     \"output_type\": \"error\",\\n     \"traceback\": [\\n      \"\\\\u001b[0;36m  File \\\\u001b[0;32m\\\\\"<ipython-input-53-60be1c701626>\\\\\"\\\\u001b[0;36m, line \\\\u001b[0;32m1\\\\u001b[0m\\\\n\\\\u001b[0;31m    word[:2] \\'Py\\'    # Slice is not a literal; produces an error\\\\u001b[0m\\\\n\\\\u001b[0m                ^\\\\u001b[0m\\\\n\\\\u001b[0;31mSyntaxError\\\\u001b[0m\\\\u001b[0;31m:\\\\u001b[0m invalid syntax\\\\n\"\\n     ]\\n    }\\n   ],\\n   \"source\": [\\n    \"word[:2] \\'Py\\'    # Slice is not a literal; produces an error\"\\n   ]\\n  },\\n  {\\n   \"cell_type\": \"markdown\",\\n   \"metadata\": {},\\n   \"source\": [\\n    \"The built-in function [`len()`](https://docs.python.org/3.5/library/functions.html#len) returns the length of a string:\"\\n   ]\\n  },\\n  {\\n   \"cell_type\": \"code\",\\n   \"execution_count\": 54,\\n   \"metadata\": {},\\n   \"outputs\": [\\n    {\\n     \"data\": {\\n      \"text/plain\": [\\n       \"34\"\\n      ]\\n     },\\n     \"execution_count\": 54,\\n     \"metadata\": {},\\n     \"output_type\": \"execute_result\"\\n    }\\n   ],\\n   \"source\": [\\n    \"s = \\'supercalifragilisticexpialidocious\\'\\\\n\",\\n    \"len(s)\"\\n   ]\\n  },\\n  {\\n   \"cell_type\": \"markdown\",\\n   \"metadata\": {},\\n   \"source\": [\\n    \"### Lists\"\\n   ]\\n  },\\n  {\\n   \"cell_type\": \"markdown\",\\n   \"metadata\": {},\\n   \"source\": [\\n    \"Python knows a number of _compound_ data types, which are used to group together other values. The most versatile is the [*list*](https://docs.python.org/3.5/library/stdtypes.html#typesseq-list), which can be written as a sequence of comma-separated values (items) between square brackets. Lists might contain items of different types, but usually the items all have the same type.\"\\n   ]\\n  },\\n  {\\n   \"cell_type\": \"code\",\\n   \"execution_count\": 55,\\n   \"metadata\": {},\\n   \"outputs\": [\\n    {\\n     \"data\": {\\n      \"text/plain\": [\\n       \"[1, 4, 9, 16, 25]\"\\n      ]\\n     },\\n     \"execution_count\": 55,\\n     \"metadata\": {},\\n     \"output_type\": \"execute_result\"\\n    }\\n   ],\\n   \"source\": [\\n    \"squares = [1, 4, 9, 16, 25]\\\\n\",\\n    \"squares\"\\n   ]\\n  },\\n  {\\n   \"cell_type\": \"markdown\",\\n   \"metadata\": {},\\n   \"source\": [\\n    \"Like strings (and all other built-in [sequence](https://docs.python.org/3.5/glossary.html#term-sequence) types), lists can be indexed and sliced:\"\\n   ]\\n  },\\n  {\\n   \"cell_type\": \"code\",\\n   \"execution_count\": 56,\\n   \"metadata\": {},\\n   \"outputs\": [\\n    {\\n     \"data\": {\\n      \"text/plain\": [\\n       \"1\"\\n      ]\\n     },\\n     \"execution_count\": 56,\\n     \"metadata\": {},\\n     \"output_type\": \"execute_result\"\\n    }\\n   ],\\n   \"source\": [\\n    \"squares[0]  # Indexing returns the item.\"\\n   ]\\n  },\\n  {\\n   \"cell_type\": \"code\",\\n   \"execution_count\": 57,\\n   \"metadata\": {},\\n   \"outputs\": [\\n    {\\n     \"data\": {\\n      \"text/plain\": [\\n       \"25\"\\n      ]\\n     },\\n     \"execution_count\": 57,\\n     \"metadata\": {},\\n     \"output_type\": \"execute_result\"\\n    }\\n   ],\\n   \"source\": [\\n    \"squares[-1]\"\\n   ]\\n  },\\n  {\\n   \"cell_type\": \"code\",\\n   \"execution_count\": 58,\\n   \"metadata\": {},\\n   \"outputs\": [\\n    {\\n     \"data\": {\\n      \"text/plain\": [\\n       \"[9, 16, 25]\"\\n      ]\\n     },\\n     \"execution_count\": 58,\\n     \"metadata\": {},\\n     \"output_type\": \"execute_result\"\\n    }\\n   ],\\n   \"source\": [\\n    \"squares[-3:]  # Slicing returns a new list.\"\\n   ]\\n  },\\n  {\\n   \"cell_type\": \"markdown\",\\n   \"metadata\": {},\\n   \"source\": [\\n    \"All slice operations return a new list containing the requested elements. This means that the following slice returns a new (shallow) copy of the list:\"\\n   ]\\n  },\\n  {\\n   \"cell_type\": \"code\",\\n   \"execution_count\": 59,\\n   \"metadata\": {},\\n   \"outputs\": [\\n    {\\n     \"data\": {\\n      \"text/plain\": [\\n       \"[1, 4, 9, 16, 25]\"\\n      ]\\n     },\\n     \"execution_count\": 59,\\n     \"metadata\": {},\\n     \"output_type\": \"execute_result\"\\n    }\\n   ],\\n   \"source\": [\\n    \"squares[:]\"\\n   ]\\n  },\\n  {\\n   \"cell_type\": \"markdown\",\\n   \"metadata\": {},\\n   \"source\": [\\n    \"Lists also support concatenation with the `+` operator:\"\\n   ]\\n  },\\n  {\\n   \"cell_type\": \"code\",\\n   \"execution_count\": 60,\\n   \"metadata\": {},\\n   \"outputs\": [\\n    {\\n     \"data\": {\\n      \"text/plain\": [\\n       \"[1, 4, 9, 16, 25, 36, 49, 64, 81, 100]\"\\n      ]\\n     },\\n     \"execution_count\": 60,\\n     \"metadata\": {},\\n     \"output_type\": \"execute_result\"\\n    }\\n   ],\\n   \"source\": [\\n    \"squares + [36, 49, 64, 81, 100]\"\\n   ]\\n  },\\n  {\\n   \"cell_type\": \"markdown\",\\n   \"metadata\": {},\\n   \"source\": [\\n    \"Unlike strings, which are [immutable](https://docs.python.org/3.5/glossary.html#term-immutable), lists are a [mutable](https://docs.python.org/3.5/glossary.html#term-mutable) type, which means you can change any value in the list:\"\\n   ]\\n  },\\n  {\\n   \"cell_type\": \"code\",\\n   \"execution_count\": 61,\\n   \"metadata\": {},\\n   \"outputs\": [\\n    {\\n     \"data\": {\\n      \"text/plain\": [\\n       \"64\"\\n      ]\\n     },\\n     \"execution_count\": 61,\\n     \"metadata\": {},\\n     \"output_type\": \"execute_result\"\\n    }\\n   ],\\n   \"source\": [\\n    \"cubes = [1, 8, 27, 65, 125]  # Something\\'s wrong here ...\\\\n\",\\n    \"4 ** 3  # the cube of 4 is 64, not 65!\"\\n   ]\\n  },\\n  {\\n   \"cell_type\": \"code\",\\n   \"execution_count\": 63,\\n   \"metadata\": {},\\n   \"outputs\": [\\n    {\\n     \"data\": {\\n      \"text/plain\": [\\n       \"[1, 8, 27, 64, 125]\"\\n      ]\\n     },\\n     \"execution_count\": 63,\\n     \"metadata\": {},\\n     \"output_type\": \"execute_result\"\\n    }\\n   ],\\n   \"source\": [\\n    \"cubes[3] = 64  # Replace the wrong value.\\\\n\",\\n    \"cubes\"\\n   ]\\n  },\\n  {\\n   \"cell_type\": \"markdown\",\\n   \"metadata\": {},\\n   \"source\": [\\n    \"Use the list\\'s `append()` method to add new items to the end of the list:\"\\n   ]\\n  },\\n  {\\n   \"cell_type\": \"code\",\\n   \"execution_count\": 64,\\n   \"metadata\": {},\\n   \"outputs\": [\\n    {\\n     \"data\": {\\n      \"text/plain\": [\\n       \"[1, 8, 27, 64, 125, 216, 343]\"\\n      ]\\n     },\\n     \"execution_count\": 64,\\n     \"metadata\": {},\\n     \"output_type\": \"execute_result\"\\n    }\\n   ],\\n   \"source\": [\\n    \"cubes.append(216)  # Add the cube of 6 ...\\\\n\",\\n    \"cubes.append(7 ** 3)  # and the cube of 7.\\\\n\",\\n    \"cubes\"\\n   ]\\n  },\\n  {\\n   \"cell_type\": \"markdown\",\\n   \"metadata\": {},\\n   \"source\": [\\n    \"You can even assign to slices, which can change the size of the list or clear it entirely:\"\\n   ]\\n  },\\n  {\\n   \"cell_type\": \"code\",\\n   \"execution_count\": 65,\\n   \"metadata\": {},\\n   \"outputs\": [\\n    {\\n     \"data\": {\\n      \"text/plain\": [\\n       \"[\\'a\\', \\'b\\', \\'c\\', \\'d\\', \\'e\\', \\'f\\', \\'g\\']\"\\n      ]\\n     },\\n     \"execution_count\": 65,\\n     \"metadata\": {},\\n     \"output_type\": \"execute_result\"\\n    }\\n   ],\\n   \"source\": [\\n    \"letters = [\\'a\\', \\'b\\', \\'c\\', \\'d\\', \\'e\\', \\'f\\', \\'g\\']\\\\n\",\\n    \"letters\"\\n   ]\\n  },\\n  {\\n   \"cell_type\": \"code\",\\n   \"execution_count\": 66,\\n   \"metadata\": {},\\n   \"outputs\": [\\n    {\\n     \"data\": {\\n      \"text/plain\": [\\n       \"[\\'a\\', \\'b\\', \\'C\\', \\'D\\', \\'E\\', \\'f\\', \\'g\\']\"\\n      ]\\n     },\\n     \"execution_count\": 66,\\n     \"metadata\": {},\\n     \"output_type\": \"execute_result\"\\n    }\\n   ],\\n   \"source\": [\\n    \"# Replace some values.\\\\n\",\\n    \"letters[2:5] = [\\'C\\', \\'D\\', \\'E\\']\\\\n\",\\n    \"letters\"\\n   ]\\n  },\\n  {\\n   \"cell_type\": \"code\",\\n   \"execution_count\": 67,\\n   \"metadata\": {},\\n   \"outputs\": [\\n    {\\n     \"data\": {\\n      \"text/plain\": [\\n       \"[\\'a\\', \\'b\\', \\'f\\', \\'g\\']\"\\n      ]\\n     },\\n     \"execution_count\": 67,\\n     \"metadata\": {},\\n     \"output_type\": \"execute_result\"\\n    }\\n   ],\\n   \"source\": [\\n    \"# Now remove them.\\\\n\",\\n    \"letters[2:5] = []\\\\n\",\\n    \"letters\"\\n   ]\\n  },\\n  {\\n   \"cell_type\": \"code\",\\n   \"execution_count\": 68,\\n   \"metadata\": {},\\n   \"outputs\": [\\n    {\\n     \"data\": {\\n      \"text/plain\": [\\n       \"[]\"\\n      ]\\n     },\\n     \"execution_count\": 68,\\n     \"metadata\": {},\\n     \"output_type\": \"execute_result\"\\n    }\\n   ],\\n   \"source\": [\\n    \"# Clear the list by replacing all the elements with an empty list.\\\\n\",\\n    \"letters[:] = []\\\\n\",\\n    \"letters\"\\n   ]\\n  },\\n  {\\n   \"cell_type\": \"markdown\",\\n   \"metadata\": {},\\n   \"source\": [\\n    \"The built-in [`len()`](https://docs.python.org/3.5/library/functions.html#len) function also applies to lists:\"\\n   ]\\n  },\\n  {\\n   \"cell_type\": \"code\",\\n   \"execution_count\": 69,\\n   \"metadata\": {},\\n   \"outputs\": [\\n    {\\n     \"data\": {\\n      \"text/plain\": [\\n       \"4\"\\n      ]\\n     },\\n     \"execution_count\": 69,\\n     \"metadata\": {},\\n     \"output_type\": \"execute_result\"\\n    }\\n   ],\\n   \"source\": [\\n    \"letters = [\\'a\\', \\'b\\', \\'c\\', \\'d\\']\\\\n\",\\n    \"len(letters)\"\\n   ]\\n  },\\n  {\\n   \"cell_type\": \"markdown\",\\n   \"metadata\": {},\\n   \"source\": [\\n    \"You can nest lists, which means to create lists that contain other lists. For example:\"\\n   ]\\n  },\\n  {\\n   \"cell_type\": \"code\",\\n   \"execution_count\": 70,\\n   \"metadata\": {},\\n   \"outputs\": [\\n    {\\n     \"data\": {\\n      \"text/plain\": [\\n       \"[[\\'a\\', \\'b\\', \\'c\\'], [1, 2, 3]]\"\\n      ]\\n     },\\n     \"execution_count\": 70,\\n     \"metadata\": {},\\n     \"output_type\": \"execute_result\"\\n    }\\n   ],\\n   \"source\": [\\n    \"a = [\\'a\\', \\'b\\', \\'c\\']\\\\n\",\\n    \"n = [1, 2, 3]\\\\n\",\\n    \"x = [a, n]\\\\n\",\\n    \"x\"\\n   ]\\n  },\\n  {\\n   \"cell_type\": \"code\",\\n   \"execution_count\": 71,\\n   \"metadata\": {},\\n   \"outputs\": [\\n    {\\n     \"data\": {\\n      \"text/plain\": [\\n       \"[\\'a\\', \\'b\\', \\'c\\']\"\\n      ]\\n     },\\n     \"execution_count\": 71,\\n     \"metadata\": {},\\n     \"output_type\": \"execute_result\"\\n    }\\n   ],\\n   \"source\": [\\n    \"x[0]\"\\n   ]\\n  },\\n  {\\n   \"cell_type\": \"code\",\\n   \"execution_count\": 72,\\n   \"metadata\": {},\\n   \"outputs\": [\\n    {\\n     \"data\": {\\n      \"text/plain\": [\\n       \"\\'b\\'\"\\n      ]\\n     },\\n     \"execution_count\": 72,\\n     \"metadata\": {},\\n     \"output_type\": \"execute_result\"\\n    }\\n   ],\\n   \"source\": [\\n    \"x[0][1]\"\\n   ]\\n  },\\n  {\\n   \"cell_type\": \"markdown\",\\n   \"metadata\": {},\\n   \"source\": [\\n    \"## First Steps Towards Programming\"\\n   ]\\n  },\\n  {\\n   \"cell_type\": \"markdown\",\\n   \"metadata\": {},\\n   \"source\": [\\n    \"Python, being used by professional programmers and scientists, among others, is capable of far more complicated tasks than adding numbers, playing with strings, and manipulating lists. For instance, we can write an initial sub-sequence of the Fibonacci series as follows:\"\\n   ]\\n  },\\n  {\\n   \"cell_type\": \"code\",\\n   \"execution_count\": 75,\\n   \"metadata\": {},\\n   \"outputs\": [\\n    {\\n     \"name\": \"stdout\",\\n     \"output_type\": \"stream\",\\n     \"text\": [\\n      \"1\\\\n\",\\n      \"1\\\\n\",\\n      \"2\\\\n\",\\n      \"3\\\\n\",\\n      \"5\\\\n\",\\n      \"8\\\\n\",\\n      \"13\\\\n\",\\n      \"21\\\\n\",\\n      \"34\\\\n\",\\n      \"55\\\\n\",\\n      \"89\\\\n\"\\n     ]\\n    }\\n   ],\\n   \"source\": [\\n    \"# Fibonacci series:\\\\n\",\\n    \"# the sum of two elements defines the next.\\\\n\",\\n    \"a, b = 0, 1\\\\n\",\\n    \"\\\\n\",\\n    \"while b < 100:\\\\n\",\\n    \"    print(b)\\\\n\",\\n    \"    a, b = b, a+b\"\\n   ]\\n  },\\n  {\\n   \"cell_type\": \"markdown\",\\n   \"metadata\": {},\\n   \"source\": [\\n    \"This example introduces several new features of the Python language:\\\\n\",\\n    \"\\\\n\",\\n    \"- The first line contains a *multiple assignment*: the variables `a` and `b` simultaneously get the new values 0 and 1. On the last line this assignment is used again, demonstrating that the expressions on the right-hand side are all evaluated first before any of the assignments take place. The right-hand side expressions are evaluated from the left to the right.\\\\n\",\\n    \"\\\\n\",\\n    \"- The [`while`](https://docs.python.org/3.5/reference/compound_stmts.html#while) loop executes as long as the condition (here: `b &lt; 10`) remains true. In Python, as in C, any non-zero integer value is true; zero is false. The condition may also be a string or list value, in fact any sequence; anything with a non-zero length is true, empty sequences are false. The test used in the example is a simple comparison. The standard comparison operators are written the same as in C: `&lt;` (less than), `&gt;` (greater than), `==` (equal to), `&lt;=` (less than or equal to), `&gt;=` (greater than or equal to) and `!=` (not equal to).\\\\n\",\\n    \"\\\\n\",\\n    \"- Every line in the *body* of the loop is indented: indentation is Python\\'s way of grouping statements. At the interactive prompt, you have to type a tab or space(s) for each indented line. In practice, you typically write Python code in an editor, including a Jupyter notebook, that provides automatic indentation.\\\\n\",\\n    \"\\\\n\",\\n    \"- The [`print()`](https://docs.python.org/3.5/library/functions.html#print) function writes the value of the argument(s) its given. `print` differs from just writing the expression you want to write (as we did earlier in the calculator examples) in the way it handles multiple arguments, floating point quantities, and strings. Strings are printed without quotes, and a space is inserted between items, so you can easily format your output nicely. For example:\"\\n   ]\\n  },\\n  {\\n   \"cell_type\": \"code\",\\n   \"execution_count\": 76,\\n   \"metadata\": {},\\n   \"outputs\": [\\n    {\\n     \"name\": \"stdout\",\\n     \"output_type\": \"stream\",\\n     \"text\": [\\n      \"The value of i is 65536\\\\n\"\\n     ]\\n    }\\n   ],\\n   \"source\": [\\n    \"i = 256*256\\\\n\",\\n    \"print(\\'The value of i is\\', i)\"\\n   ]\\n  },\\n  {\\n   \"cell_type\": \"markdown\",\\n   \"metadata\": {},\\n   \"source\": [\\n    \"The keyword argument `end` can be used to avoid the newline after the output, or end the output with a different string:\"\\n   ]\\n  },\\n  {\\n   \"cell_type\": \"code\",\\n   \"execution_count\": 77,\\n   \"metadata\": {},\\n   \"outputs\": [\\n    {\\n     \"name\": \"stdout\",\\n     \"output_type\": \"stream\",\\n     \"text\": [\\n      \"1,1,2,3,5,8,13,21,34,55,89,144,233,377,610,987,\"\\n     ]\\n    }\\n   ],\\n   \"source\": [\\n    \"a, b = 0, 1\\\\n\",\\n    \"while b < 1000:\\\\n\",\\n    \"    print(b, end=\\',\\')\\\\n\",\\n    \"    a, b = b, a+b\"\\n   ]\\n  },\\n  {\\n   \"cell_type\": \"markdown\",\\n   \"metadata\": {},\\n   \"source\": [\\n    \"## Learn more\\\\n\",\\n    \"\\\\n\",\\n    \"Strings:\\\\n\",\\n    \"\\\\n\",\\n    \"- [Text Sequence Type - str](https://docs.python.org/3.5/library/stdtypes.html#textseq): Strings are examples of *sequence types*, and support the common operations supported by such types.\\\\n\",\\n    \"- [String Methods](https://docs.python.org/3.5/library/stdtypes.html#string-methods): Strings support a large number of methods for basic transformations and searching.\\\\n\",\\n    \"- [Format String Syntax](https://docs.python.org/3.5/library/string.html#formatstrings): Information about string formatting with [`str.format()`](https://docs.python.org/3.5/library/string.html#formatstrings).\\\\n\",\\n    \"- [`printf`-style String Formatting](https://docs.python.org/3.5/library/stdtypes.html#old-string-formatting): The old formatting operations invoked when strings and Unicode strings are the left operand of the `%` operator.\\\\n\",\\n    \"\\\\n\",\\n    \"Continue the tutorial on python.org (try pasting the code into a notebook!):\\\\n\",\\n    \"\\\\n\",\\n    \"- [More Control Flow Tools](https://docs.python.org/3.6/tutorial/controlflow.html)\\\\n\",\\n    \"- [Data Structures](Data Structures)\\\\n\",\\n    \"- [Modules](https://docs.python.org/3.6/tutorial/modules.html)\\\\n\",\\n    \"- [Input and Output](https://docs.python.org/3.6/tutorial/inputoutput.html)\"\\n   ]\\n  }\\n ],\\n \"metadata\": {\\n  \"kernelspec\": {\\n   \"display_name\": \"Python 3\",\\n   \"language\": \"python\",\\n   \"name\": \"python3\"\\n  },\\n  \"language_info\": {\\n   \"codemirror_mode\": {\\n    \"name\": \"ipython\",\\n    \"version\": 3\\n   },\\n   \"file_extension\": \".py\",\\n   \"mimetype\": \"text/x-python\",\\n   \"name\": \"python\",\\n   \"nbconvert_exporter\": \"python\",\\n   \"pygments_lexer\": \"ipython3\",\\n   \"version\": \"3.7.4\"\\n  }\\n },\\n \"nbformat\": 4,\\n \"nbformat_minor\": 1\\n}\\n'"
      ]
     },
     "execution_count": 27,
     "metadata": {},
     "output_type": "execute_result"
    }
   ],
   "source": [
    "_[0].read_text()"
   ]
  },
  {
   "cell_type": "code",
   "execution_count": 28,
   "metadata": {},
   "outputs": [
    {
     "data": {
      "text/plain": [
       "[WindowsPath('.ipynb_checkpoints')]"
      ]
     },
     "execution_count": 28,
     "metadata": {},
     "output_type": "execute_result"
    }
   ],
   "source": [
    "[d for d in p.iterdir() if d.is_dir()]"
   ]
  },
  {
   "cell_type": "code",
   "execution_count": 29,
   "metadata": {},
   "outputs": [
    {
     "data": {
      "text/plain": [
       "[WindowsPath('.ipynb_checkpoints/12 Extras-checkpoint.ipynb')]"
      ]
     },
     "execution_count": 29,
     "metadata": {},
     "output_type": "execute_result"
    }
   ],
   "source": [
    "list((p / '.ipynb_checkpoints').iterdir())"
   ]
  },
  {
   "cell_type": "code",
   "execution_count": null,
   "metadata": {},
   "outputs": [],
   "source": []
  }
 ],
 "metadata": {
  "kernelspec": {
   "display_name": "Python 3",
   "language": "python",
   "name": "python3"
  },
  "language_info": {
   "codemirror_mode": {
    "name": "ipython",
    "version": 3
   },
   "file_extension": ".py",
   "mimetype": "text/x-python",
   "name": "python",
   "nbconvert_exporter": "python",
   "pygments_lexer": "ipython3",
   "version": "3.7.4"
  }
 },
 "nbformat": 4,
 "nbformat_minor": 2
}
