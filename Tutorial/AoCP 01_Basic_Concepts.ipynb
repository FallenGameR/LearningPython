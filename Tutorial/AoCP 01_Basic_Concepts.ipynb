{
 "cells": [
  {
   "cell_type": "markdown",
   "metadata": {},
   "source": [
    "# Euclid’s algorithm"
   ]
  },
  {
   "cell_type": "markdown",
   "metadata": {},
   "source": [
    "Given two positive integers m and n, find their greatest common divisor, that is, the largest positive integer that evenly divides both m and n.\n",
    "\n",
    "E1. [Find remainder.] Divide m by n and let r be the remainder. (We will have 0 ≤ r < n.)\n",
    "\n",
    "E2. [Is it zero?] If r = 0, the algorithm terminates; n is the answer.\n",
    "\n",
    "E3. [Reduce.] Set m ← n, n ← r, and go back to step E1. Image"
   ]
  },
  {
   "cell_type": "code",
   "execution_count": 22,
   "metadata": {},
   "outputs": [
    {
     "name": "stdout",
     "output_type": "stream",
     "text": [
      "4\n",
      "4\n"
     ]
    }
   ],
   "source": [
    "def gcdr(m, n):\n",
    "    # Find reminder\n",
    "    r = m % n\n",
    "    # We either found greatest common devisor or need to reduce the problem\n",
    "    return n if r == 0 else gcd(n, r)\n",
    "    \n",
    "def gcdi(m, n):\n",
    "    while True:\n",
    "        # Find reminder\n",
    "        r = m % n\n",
    "\n",
    "        if r == 0:\n",
    "            # Found greatest common divisor\n",
    "            return n\n",
    "        else:\n",
    "            # Reduce \n",
    "            m, n = n, r\n",
    "    \n",
    "print(gcdr(12, 100))\n",
    "print(gcdi(100, 12))"
   ]
  },
  {
   "cell_type": "code",
   "execution_count": null,
   "metadata": {},
   "outputs": [],
   "source": []
  }
 ],
 "metadata": {
  "kernelspec": {
   "display_name": "Python 3",
   "language": "python",
   "name": "python3"
  },
  "language_info": {
   "codemirror_mode": {
    "name": "ipython",
    "version": 3
   },
   "file_extension": ".py",
   "mimetype": "text/x-python",
   "name": "python",
   "nbconvert_exporter": "python",
   "pygments_lexer": "ipython3",
   "version": "3.7.4"
  }
 },
 "nbformat": 4,
 "nbformat_minor": 2
}
