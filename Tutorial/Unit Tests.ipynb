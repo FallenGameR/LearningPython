{
 "cells": [
  {
   "cell_type": "markdown",
   "metadata": {},
   "source": [
    "# py.test"
   ]
  },
  {
   "cell_type": "markdown",
   "metadata": {},
   "source": [
    "Run pytest --pdb to drop into the Python debugger on failures. This is quite convenient to find out quickly why a unit test fails."
   ]
  },
  {
   "cell_type": "markdown",
   "metadata": {},
   "source": [
    "In a Python package, a test_xxx.py module should accompany every Python module named xxx.py. This testing module contains unit tests that test functionality implemented in the xxx.py module.\n",
    "\n"
   ]
  },
  {
   "cell_type": "code",
   "execution_count": 18,
   "metadata": {},
   "outputs": [
    {
     "name": "stdout",
     "output_type": "stream",
     "text": [
      "Overwriting first.py\n"
     ]
    }
   ],
   "source": [
    "%%writefile first.py\n",
    "def first(l):\n",
    "    return l[0] if l else None\n",
    "\n",
    "def test_first():\n",
    "    assert first([1, 2, 3]) == 2\n",
    "    assert first([]) is None"
   ]
  },
  {
   "cell_type": "code",
   "execution_count": 19,
   "metadata": {},
   "outputs": [
    {
     "name": "stdout",
     "output_type": "stream",
     "text": [
      "============================= test session starts =============================\n",
      "platform win32 -- Python 3.7.4, pytest-5.2.1, py-1.8.0, pluggy-0.13.0\n",
      "rootdir: C:\\Users\\alexko\\Downloads\\py\\Tutorial\n",
      "plugins: dash-1.6.1, arraydiff-0.3, doctestplus-0.4.0, mock-1.13.0, openfiles-0.4.0, remotedata-0.3.2, sugar-0.9.2\n",
      "collected 1 item\n",
      "\n",
      "first.py F                                                               [100%]\n",
      "\n",
      "================================== FAILURES ===================================\n",
      "_________________________________ test_first __________________________________\n",
      "\n",
      "    def test_first():\n",
      ">       assert first([1, 2, 3]) == 2\n",
      "E       assert 1 == 2\n",
      "E        +  where 1 = first([1, 2, 3])\n",
      "\n",
      "first.py:5: AssertionError\n",
      "============================== 1 failed in 0.42s ==============================\n"
     ]
    }
   ],
   "source": [
    "!pytest first.py"
   ]
  },
  {
   "cell_type": "code",
   "execution_count": 8,
   "metadata": {
    "collapsed": true
   },
   "outputs": [
    {
     "name": "stdout",
     "output_type": "stream",
     "text": [
      "Requirement already satisfied: dash[testing] in c:\\tools\\anaconda3\\lib\\site-packages (1.6.1)\n",
      "Requirement already satisfied: plotly in c:\\tools\\anaconda3\\lib\\site-packages (from dash[testing]) (4.3.0)\n",
      "Requirement already satisfied: dash-html-components==1.0.2 in c:\\tools\\anaconda3\\lib\\site-packages (from dash[testing]) (1.0.2)\n",
      "Requirement already satisfied: dash-renderer==1.2.1 in c:\\tools\\anaconda3\\lib\\site-packages (from dash[testing]) (1.2.1)\n",
      "Requirement already satisfied: dash-core-components==1.5.1 in c:\\tools\\anaconda3\\lib\\site-packages (from dash[testing]) (1.5.1)\n",
      "Requirement already satisfied: dash-table==4.5.1 in c:\\tools\\anaconda3\\lib\\site-packages (from dash[testing]) (4.5.1)\n",
      "Requirement already satisfied: Flask>=1.0.2 in c:\\tools\\anaconda3\\lib\\site-packages (from dash[testing]) (1.1.1)\n",
      "Requirement already satisfied: flask-compress in c:\\tools\\anaconda3\\lib\\site-packages (from dash[testing]) (1.4.0)\n",
      "Requirement already satisfied: future in c:\\tools\\anaconda3\\lib\\site-packages (from dash[testing]) (0.17.1)\n",
      "Collecting selenium>=3.141.0; extra == \"testing\"\n",
      "  Downloading https://files.pythonhosted.org/packages/80/d6/4294f0b4bce4de0abf13e17190289f9d0613b0a44e5dd6a7f5ca98459853/selenium-3.141.0-py2.py3-none-any.whl (904kB)\n",
      "Collecting percy; extra == \"testing\"\n",
      "  Downloading https://files.pythonhosted.org/packages/d6/39/528e689e21baa4d625cecc326c0d56c976d63855f9d114c07ccaed8a73eb/percy-2.0.2-py2.py3-none-any.whl\n",
      "Requirement already satisfied: pytest; extra == \"testing\" in c:\\tools\\anaconda3\\lib\\site-packages (from dash[testing]) (5.2.1)\n",
      "Collecting pytest-mock; extra == \"testing\"\n",
      "  Downloading https://files.pythonhosted.org/packages/51/35/67019e708f2adaf2d9f125b4ddff49ff40e22d3181a368b1ef7ba3268546/pytest_mock-1.13.0-py2.py3-none-any.whl\n",
      "Collecting pytest-sugar; extra == \"testing\"\n",
      "  Downloading https://files.pythonhosted.org/packages/da/3b/f1e3c8830860c1df8f0e0f6713932475141210cfa021e362ca2774d2bf02/pytest_sugar-0.9.2-py2.py3-none-any.whl\n",
      "Requirement already satisfied: lxml; extra == \"testing\" in c:\\tools\\anaconda3\\lib\\site-packages (from dash[testing]) (4.4.1)\n",
      "Requirement already satisfied: beautifulsoup4; extra == \"testing\" in c:\\tools\\anaconda3\\lib\\site-packages (from dash[testing]) (4.8.0)\n",
      "Collecting waitress; extra == \"testing\"\n",
      "  Downloading https://files.pythonhosted.org/packages/2d/0b/84a7da7fd12ee556dd193c24b635a11b840d314bc580771dd2a3151450c9/waitress-1.3.1-py2.py3-none-any.whl (144kB)\n",
      "Requirement already satisfied: requests[security]; extra == \"testing\" in c:\\tools\\anaconda3\\lib\\site-packages (from dash[testing]) (2.22.0)\n",
      "Requirement already satisfied: six in c:\\tools\\anaconda3\\lib\\site-packages (from plotly->dash[testing]) (1.12.0)\n",
      "Requirement already satisfied: retrying>=1.3.3 in c:\\tools\\anaconda3\\lib\\site-packages (from plotly->dash[testing]) (1.3.3)\n",
      "Requirement already satisfied: click>=5.1 in c:\\tools\\anaconda3\\lib\\site-packages (from Flask>=1.0.2->dash[testing]) (7.0)\n",
      "Requirement already satisfied: Werkzeug>=0.15 in c:\\tools\\anaconda3\\lib\\site-packages (from Flask>=1.0.2->dash[testing]) (0.16.0)\n",
      "Requirement already satisfied: Jinja2>=2.10.1 in c:\\tools\\anaconda3\\lib\\site-packages (from Flask>=1.0.2->dash[testing]) (2.10.3)\n",
      "Requirement already satisfied: itsdangerous>=0.24 in c:\\tools\\anaconda3\\lib\\site-packages (from Flask>=1.0.2->dash[testing]) (1.1.0)\n",
      "Requirement already satisfied: urllib3 in c:\\tools\\anaconda3\\lib\\site-packages (from selenium>=3.141.0; extra == \"testing\"->dash[testing]) (1.24.2)\n",
      "Requirement already satisfied: py>=1.5.0 in c:\\tools\\anaconda3\\lib\\site-packages (from pytest; extra == \"testing\"->dash[testing]) (1.8.0)\n",
      "Requirement already satisfied: packaging in c:\\tools\\anaconda3\\lib\\site-packages (from pytest; extra == \"testing\"->dash[testing]) (19.2)\n",
      "Requirement already satisfied: attrs>=17.4.0 in c:\\tools\\anaconda3\\lib\\site-packages (from pytest; extra == \"testing\"->dash[testing]) (19.2.0)\n",
      "Requirement already satisfied: more-itertools>=4.0.0 in c:\\tools\\anaconda3\\lib\\site-packages (from pytest; extra == \"testing\"->dash[testing]) (7.2.0)\n",
      "Requirement already satisfied: atomicwrites>=1.0 in c:\\tools\\anaconda3\\lib\\site-packages (from pytest; extra == \"testing\"->dash[testing]) (1.3.0)\n",
      "Requirement already satisfied: pluggy<1.0,>=0.12 in c:\\tools\\anaconda3\\lib\\site-packages (from pytest; extra == \"testing\"->dash[testing]) (0.13.0)\n",
      "Requirement already satisfied: wcwidth in c:\\tools\\anaconda3\\lib\\site-packages (from pytest; extra == \"testing\"->dash[testing]) (0.1.7)\n",
      "Requirement already satisfied: importlib-metadata>=0.12 in c:\\tools\\anaconda3\\lib\\site-packages (from pytest; extra == \"testing\"->dash[testing]) (0.23)\n",
      "Requirement already satisfied: colorama in c:\\tools\\anaconda3\\lib\\site-packages (from pytest; extra == \"testing\"->dash[testing]) (0.4.1)\n",
      "Requirement already satisfied: termcolor>=1.1.0 in c:\\tools\\anaconda3\\lib\\site-packages (from pytest-sugar; extra == \"testing\"->dash[testing]) (1.1.0)\n",
      "Requirement already satisfied: soupsieve>=1.2 in c:\\tools\\anaconda3\\lib\\site-packages (from beautifulsoup4; extra == \"testing\"->dash[testing]) (1.9.3)\n",
      "Requirement already satisfied: certifi>=2017.4.17 in c:\\tools\\anaconda3\\lib\\site-packages (from requests[security]; extra == \"testing\"->dash[testing]) (2019.9.11)\n",
      "Requirement already satisfied: chardet<3.1.0,>=3.0.2 in c:\\tools\\anaconda3\\lib\\site-packages (from requests[security]; extra == \"testing\"->dash[testing]) (3.0.4)\n",
      "Requirement already satisfied: idna<2.9,>=2.5 in c:\\tools\\anaconda3\\lib\\site-packages (from requests[security]; extra == \"testing\"->dash[testing]) (2.8)\n",
      "Requirement already satisfied: cryptography>=1.3.4; extra == \"security\" in c:\\tools\\anaconda3\\lib\\site-packages (from requests[security]; extra == \"testing\"->dash[testing]) (2.7)\n",
      "Requirement already satisfied: pyOpenSSL>=0.14; extra == \"security\" in c:\\tools\\anaconda3\\lib\\site-packages (from requests[security]; extra == \"testing\"->dash[testing]) (19.0.0)\n",
      "Requirement already satisfied: MarkupSafe>=0.23 in c:\\tools\\anaconda3\\lib\\site-packages (from Jinja2>=2.10.1->Flask>=1.0.2->dash[testing]) (1.1.1)\n",
      "Requirement already satisfied: pyparsing>=2.0.2 in c:\\tools\\anaconda3\\lib\\site-packages (from packaging->pytest; extra == \"testing\"->dash[testing]) (2.4.2)\n",
      "Requirement already satisfied: zipp>=0.5 in c:\\tools\\anaconda3\\lib\\site-packages (from importlib-metadata>=0.12->pytest; extra == \"testing\"->dash[testing]) (0.6.0)\n",
      "Requirement already satisfied: cffi!=1.11.3,>=1.8 in c:\\tools\\anaconda3\\lib\\site-packages (from cryptography>=1.3.4; extra == \"security\"->requests[security]; extra == \"testing\"->dash[testing]) (1.12.3)\n",
      "Requirement already satisfied: asn1crypto>=0.21.0 in c:\\tools\\anaconda3\\lib\\site-packages (from cryptography>=1.3.4; extra == \"security\"->requests[security]; extra == \"testing\"->dash[testing]) (1.0.1)\n",
      "Requirement already satisfied: pycparser in c:\\tools\\anaconda3\\lib\\site-packages (from cffi!=1.11.3,>=1.8->cryptography>=1.3.4; extra == \"security\"->requests[security]; extra == \"testing\"->dash[testing]) (2.19)\n",
      "Installing collected packages: selenium, percy, pytest-mock, pytest-sugar, waitress\n",
      "Successfully installed percy-2.0.2 pytest-mock-1.13.0 pytest-sugar-0.9.2 selenium-3.141.0 waitress-1.3.1\n"
     ]
    }
   ],
   "source": [
    "!pip install dash[testing]"
   ]
  },
  {
   "cell_type": "markdown",
   "metadata": {},
   "source": [
    "# doctest"
   ]
  },
  {
   "cell_type": "code",
   "execution_count": 15,
   "metadata": {},
   "outputs": [
    {
     "name": "stdout",
     "output_type": "stream",
     "text": [
      "Overwriting second.py\n"
     ]
    }
   ],
   "source": [
    "%%writefile second.py\n",
    "\"\"\"\n",
    "*What is this pattern about?\n",
    "Define a family of algorithms, encapsulate each one, and make them interchangeable.\n",
    "Strategy lets the algorithm vary independently from clients that use it.\n",
    "*TL;DR\n",
    "Enables selecting an algorithm at runtime.\n",
    "\"\"\"\n",
    "\n",
    "\n",
    "class Order:\n",
    "    def __init__(self, price, discount_strategy=None):\n",
    "        self.price = price\n",
    "        self.discount_strategy = discount_strategy\n",
    "\n",
    "    def price_after_discount(self):\n",
    "        if self.discount_strategy:\n",
    "            discount = self.discount_strategy(self)\n",
    "        else:\n",
    "            discount = 0\n",
    "        return self.price - discount\n",
    "\n",
    "    def __repr__(self):\n",
    "        fmt = \"<Price: {}, price after discount: {}>\"\n",
    "        return fmt.format(self.price, self.price_after_discount())\n",
    "\n",
    "\n",
    "def ten_percent_discount(order):\n",
    "    return order.price * 0.10\n",
    "\n",
    "\n",
    "def on_sale_discount(order):\n",
    "    return order.price * 0.25 + 20\n",
    "\n",
    "\n",
    "def main():\n",
    "    \"\"\"\n",
    "    >>> Order(150)\n",
    "    <Price: 100, price after discount: 100>\n",
    "    >>> Order(100, discount_strategy=ten_percent_discount)\n",
    "    <Price: 100, price after discount: 90.0>\n",
    "    >>> Order(1000, discount_strategy=on_sale_discount)\n",
    "    <Price: 1000, price after discount: 730.0>\n",
    "    \"\"\"\n",
    "\n",
    "\n",
    "if __name__ == \"__main__\":\n",
    "    import doctest\n",
    "    doctest.testmod()"
   ]
  },
  {
   "cell_type": "code",
   "execution_count": 16,
   "metadata": {},
   "outputs": [
    {
     "name": "stdout",
     "output_type": "stream",
     "text": [
      "**********************************************************************\n",
      "File \"second.py\", line 37, in __main__.main\n",
      "Failed example:\n",
      "    Order(150)\n",
      "Expected:\n",
      "    <Price: 100, price after discount: 100>\n",
      "Got:\n",
      "    <Price: 150, price after discount: 150>\n",
      "**********************************************************************\n",
      "1 items had failures:\n",
      "   1 of   3 in __main__.main\n",
      "***Test Failed*** 1 failures.\n"
     ]
    }
   ],
   "source": [
    "!python second.py"
   ]
  },
  {
   "cell_type": "code",
   "execution_count": 17,
   "metadata": {},
   "outputs": [
    {
     "name": "stdout",
     "output_type": "stream",
     "text": [
      "**********************************************************************\n",
      "File \"second.py\", line 37, in __main__.main\n",
      "Failed example:\n",
      "    Order(150)\n",
      "Expected:\n",
      "    <Price: 100, price after discount: 100>\n",
      "Got:\n",
      "    <Price: 150, price after discount: 150>\n",
      "**********************************************************************\n",
      "1 items had failures:\n",
      "   1 of   3 in __main__.main\n",
      "***Test Failed*** 1 failures.\n"
     ]
    }
   ],
   "source": [
    "%run -i second.py"
   ]
  },
  {
   "cell_type": "code",
   "execution_count": null,
   "metadata": {},
   "outputs": [],
   "source": []
  }
 ],
 "metadata": {
  "kernelspec": {
   "display_name": "Python 3",
   "language": "python",
   "name": "python3"
  },
  "language_info": {
   "codemirror_mode": {
    "name": "ipython",
    "version": 3
   },
   "file_extension": ".py",
   "mimetype": "text/x-python",
   "name": "python",
   "nbconvert_exporter": "python",
   "pygments_lexer": "ipython3",
   "version": "3.7.4"
  }
 },
 "nbformat": 4,
 "nbformat_minor": 2
}
