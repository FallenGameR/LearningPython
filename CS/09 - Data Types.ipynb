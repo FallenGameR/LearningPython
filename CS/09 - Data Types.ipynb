{
 "cells": [
  {
   "cell_type": "markdown",
   "metadata": {},
   "source": [
    "# Point charge"
   ]
  },
  {
   "cell_type": "code",
   "execution_count": 27,
   "metadata": {},
   "outputs": [
    {
     "name": "stdout",
     "output_type": "stream",
     "text": [
      "20.1 at (0.72, 0.31)\n",
      "3.61e+11\n"
     ]
    }
   ],
   "source": [
    "import math\n",
    "\n",
    "class Charge: \n",
    "    def __init__(self, x, y, charge): \n",
    "        self.cx = x\n",
    "        self.cy = y\n",
    "        self.val = charge\n",
    "  \n",
    "    def potential_at(self, x, y): \n",
    "        k = 8.99e9\n",
    "        dx = self.cx - x\n",
    "        dy = self.cy - y\n",
    "        dist = math.sqrt(dx**2 + dy**2)\n",
    "        return k * self.val / dist\n",
    "    \n",
    "    def __str__(self):\n",
    "        return f'{self.val} at ({self.cx}, {self.cy})'\n",
    "  \n",
    "charge = Charge(.72, .31, 20.1)\n",
    "print(charge)\n",
    "print(\"%6.2e\" % charge.potential_at(.42, .71))"
   ]
  },
  {
   "cell_type": "code",
   "execution_count": 28,
   "metadata": {},
   "outputs": [
    {
     "name": "stdout",
     "output_type": "stream",
     "text": [
      "Writing 09_charges.txt\n"
     ]
    }
   ],
   "source": [
    "%%writefile 09_charges.txt\n",
    "3\n",
    ".51 .63 -100\n",
    ".50 .50   40\n",
    ".50 .72   20"
   ]
  },
  {
   "cell_type": "code",
   "execution_count": null,
   "metadata": {},
   "outputs": [],
   "source": []
  }
 ],
 "metadata": {
  "kernelspec": {
   "display_name": "Python 3",
   "language": "python",
   "name": "python3"
  },
  "language_info": {
   "codemirror_mode": {
    "name": "ipython",
    "version": 3
   },
   "file_extension": ".py",
   "mimetype": "text/x-python",
   "name": "python",
   "nbconvert_exporter": "python",
   "pygments_lexer": "ipython3",
   "version": "3.8.3"
  }
 },
 "nbformat": 4,
 "nbformat_minor": 4
}
