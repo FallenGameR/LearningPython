{
 "cells": [
  {
   "cell_type": "markdown",
   "metadata": {},
   "source": [
    "# Foundations"
   ]
  },
  {
   "cell_type": "markdown",
   "metadata": {},
   "source": [
    "### Convert to base 2"
   ]
  },
  {
   "cell_type": "code",
   "execution_count": 3,
   "metadata": {},
   "outputs": [
    {
     "data": {
      "text/plain": [
       "'100010'"
      ]
     },
     "execution_count": 3,
     "metadata": {},
     "output_type": "execute_result"
    }
   ],
   "source": [
    "def convert(x):\n",
    "    if x == 0: return \"0\"\n",
    "    if x == 1: return \"1\"\n",
    "    return convert(x//2) + convert(x%2)\n",
    "\n",
    "convert(34)"
   ]
  },
  {
   "cell_type": "markdown",
   "metadata": {},
   "source": [
    "### Collatz sequence"
   ]
  },
  {
   "cell_type": "code",
   "execution_count": 14,
   "metadata": {},
   "outputs": [
    {
     "name": "stdout",
     "output_type": "stream",
     "text": [
      "7  22  11  34  17  52  26  13  40  20  10  5  16  8  4  2  1  "
     ]
    }
   ],
   "source": [
    "def collatz(n):\n",
    "    print(n, \" \", end=\"\")\n",
    "    \n",
    "    if n == 1: \n",
    "        return\n",
    "    \n",
    "    if n % 2 == 0: \n",
    "        collatz(n // 2)\n",
    "        return\n",
    "    \n",
    "    collatz(3*n + 1)\n",
    "    \n",
    "collatz(7)\n"
   ]
  },
  {
   "cell_type": "markdown",
   "metadata": {},
   "source": [
    "# Classic example"
   ]
  },
  {
   "cell_type": "markdown",
   "metadata": {},
   "source": [
    "### Subdivisions of a ruller"
   ]
  },
  {
   "cell_type": "code",
   "execution_count": 20,
   "metadata": {},
   "outputs": [
    {
     "data": {
      "text/plain": [
       "' 1 2 1 3 1 2 1 4 1 2 1 3 1 2 1 '"
      ]
     },
     "execution_count": 20,
     "metadata": {},
     "output_type": "execute_result"
    }
   ],
   "source": [
    "def ruler(n):\n",
    "    if n==0: return \" \"\n",
    "    return ruler(n-1) + str(n) + ruler(n-1)        \n",
    "    \n",
    "ruler(4)"
   ]
  },
  {
   "cell_type": "markdown",
   "metadata": {},
   "source": [
    "### Towers of Hanoi"
   ]
  },
  {
   "cell_type": "code",
   "execution_count": 32,
   "metadata": {},
   "outputs": [],
   "source": [
    "def reverse(direction):\n",
    "    if direction==\"L\": return \"R\"\n",
    "    if direction==\"R\": return \"L\"\n",
    "    raise Exception(\"unknown direction: \" + direction)\n",
    "\n",
    "def hanoi(n, direction):\n",
    "    \"\"\"\n",
    "    Assumes that we have one sorted pile of disks with largest disk size n on the middle spindle.\n",
    "    The returned instruction describes how disks with different sizes must be moved so that the whole sorted pile\n",
    "    would relocate in the specified direction. Moves are cyclic, L means Left, R means Right. Cyclic means that \n",
    "    if we move leftmost to the left it would cycle through to the rightmost position, simialr for other direction.\n",
    "    \"\"\"\n",
    "    if n==0: return \" \"\n",
    "    moveSmallerPileAway = hanoi(n-1, reverse(direction))\n",
    "    moveLargeDisk = str(n) + direction\n",
    "    moveSmallerPileOnTop = hanoi(n-1, reverse(direction))\n",
    "    return moveSmallerPileAway + moveLargeDisk + moveSmallerPileOnTop\n",
    "    "
   ]
  },
  {
   "cell_type": "code",
   "execution_count": 34,
   "metadata": {},
   "outputs": [
    {
     "data": {
      "text/plain": [
       "' 1R 2L 1R 3R 1R 2L 1R 4L 1R 2L 1R 3R 1R 2L 1R '"
      ]
     },
     "execution_count": 34,
     "metadata": {},
     "output_type": "execute_result"
    }
   ],
   "source": [
    "hanoi(4, \"L\")"
   ]
  },
  {
   "cell_type": "markdown",
   "metadata": {},
   "source": [
    "Disk 1 always moves right. Disk 2 always moves left. The same for all other disk sizes - they move only in one direction. And if we always move the smallest disk to the right, there is only one possible move available on the other two disks since we can't put anything on top of the smallest disk. This is the algorithm that can be explained to a human. And this algorithm would work without needing lots of stack and that would cover any n."
   ]
  },
  {
   "cell_type": "markdown",
   "metadata": {},
   "source": [
    "And the compute complexity is 2\\*\\*N - 1. For the profecy time estimate we need to check n for 64. And mutiply by the time it takes to move the disk. Let's assume it is one minute."
   ]
  },
  {
   "cell_type": "code",
   "execution_count": 42,
   "metadata": {},
   "outputs": [
    {
     "data": {
      "text/plain": [
       "350965450413.0432"
      ]
     },
     "execution_count": 42,
     "metadata": {},
     "output_type": "execute_result"
    }
   ],
   "source": [
    "operations = 2**64 - 1\n",
    "inSeconds = operations * 60\n",
    "inCenturies = inSeconds / 60 / 60 / 24 / 365 / 100\n",
    "inCenturies"
   ]
  }
 ],
 "metadata": {
  "kernelspec": {
   "display_name": "Python 3",
   "language": "python",
   "name": "python3"
  },
  "language_info": {
   "codemirror_mode": {
    "name": "ipython",
    "version": 3
   },
   "file_extension": ".py",
   "mimetype": "text/x-python",
   "name": "python",
   "nbconvert_exporter": "python",
   "pygments_lexer": "ipython3",
   "version": "3.7.4"
  }
 },
 "nbformat": 4,
 "nbformat_minor": 2
}
