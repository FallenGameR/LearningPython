{
 "cells": [
  {
   "cell_type": "markdown",
   "metadata": {},
   "source": [
    "# Newton-Rapson method for sqrt"
   ]
  },
  {
   "cell_type": "markdown",
   "metadata": {},
   "source": [
    "Basicly we build approximaitions with tangent line that we determine based on derivative function. It looks like we compare to root\\*eps as oposed to eps since we want scaled estimator. Otherwise we may never finish the while loop for large numbers. Additionally choosing eps that is even smaller can get us into infinite loop since underlying number respresentation can't calculate such small differences."
   ]
  },
  {
   "cell_type": "code",
   "execution_count": 29,
   "metadata": {
    "collapsed": true
   },
   "outputs": [
    {
     "name": "stdout",
     "output_type": "stream",
     "text": [
      "15 = 3.872983346207417 ^2 = 15.000000000000002\n",
      "done in 7 iterations\n"
     ]
    }
   ],
   "source": [
    "val = 15\n",
    "eps = 1e-15\n",
    "iterations = 0\n",
    "\n",
    "root = val\n",
    "while abs(root - val / root) > root*eps:\n",
    "    # Calculating average\n",
    "    root = (root + val / root) / 2.0\n",
    "    iterations += 1\n",
    "\n",
    "print(val, \"=\", root, \"^2\", \"=\", root * root)\n",
    "print(\"done in\", iterations, \"iterations\")"
   ]
  },
  {
   "cell_type": "markdown",
   "metadata": {},
   "source": [
    "# Fibonachi numbers"
   ]
  },
  {
   "cell_type": "code",
   "execution_count": 44,
   "metadata": {},
   "outputs": [
    {
     "name": "stdout",
     "output_type": "stream",
     "text": [
      "9 : 1\n",
      "8 : 2\n",
      "7 : 3\n",
      "6 : 5\n",
      "5 : 8\n",
      "4 : 13\n",
      "3 : 21\n",
      "2 : 34\n",
      "1 : 55\n"
     ]
    }
   ],
   "source": [
    "def fib_recurse(n, a = 0, b = 1):\n",
    "    if n == 0:\n",
    "        return\n",
    "    c = a + b\n",
    "    print(n, \":\", c)\n",
    "    fib_recurse(n-1, b, c)\n",
    "    \n",
    "fib_recurse(9)"
   ]
  },
  {
   "cell_type": "code",
   "execution_count": 33,
   "metadata": {},
   "outputs": [
    {
     "name": "stdout",
     "output_type": "stream",
     "text": [
      "0 : 0\n",
      "1 : 1\n",
      "2 : 2\n",
      "3 : 3\n",
      "4 : 5\n",
      "5 : 8\n",
      "6 : 13\n",
      "7 : 21\n",
      "8 : 34\n",
      "9 : 55\n"
     ]
    }
   ],
   "source": [
    "def fib_traditional(n):\n",
    "    if n == 0:\n",
    "        return 0\n",
    "    if n == 1:\n",
    "        return 1\n",
    "    if n == 2:\n",
    "        return 2\n",
    "    return fib_traditional(n-1) + fib_traditional(n-2)\n",
    "\n",
    "for i in range(10):\n",
    "    print(i, \":\", fib_traditional(i))"
   ]
  },
  {
   "cell_type": "code",
   "execution_count": 40,
   "metadata": {},
   "outputs": [
    {
     "name": "stdout",
     "output_type": "stream",
     "text": [
      "0 : 1\n",
      "1 : 1\n",
      "2 : 2\n",
      "3 : 3\n",
      "4 : 5\n",
      "5 : 8\n",
      "6 : 13\n",
      "7 : 21\n",
      "8 : 34\n",
      "9 : 55\n"
     ]
    }
   ],
   "source": [
    "def fib_iterative(n):\n",
    "    f, g = 0, 1\n",
    "    for i in range(n):\n",
    "        f = f + g\n",
    "        g = f - g\n",
    "        print(i, \":\", f)\n",
    "        \n",
    "fib_iterative(10)"
   ]
  },
  {
   "cell_type": "markdown",
   "metadata": {},
   "source": [
    "# Python way"
   ]
  },
  {
   "cell_type": "code",
   "execution_count": 63,
   "metadata": {},
   "outputs": [
    {
     "name": "stdout",
     "output_type": "stream",
     "text": [
      "0 : 1\n",
      "1 : 1\n",
      "2 : 2\n",
      "3 : 3\n",
      "4 : 5\n",
      "5 : 8\n",
      "6 : 13\n",
      "7 : 21\n",
      "8 : 34\n",
      "9 : 55\n"
     ]
    }
   ],
   "source": [
    "a, b = 0, 1\n",
    "\n",
    "for item in range(10):\n",
    "    print(item, \":\", b)\n",
    "    a, b = b, a + b"
   ]
  },
  {
   "cell_type": "markdown",
   "metadata": {},
   "source": [
    "# Gambler's problem"
   ]
  },
  {
   "cell_type": "markdown",
   "metadata": {},
   "source": [
    "Computer simulation can validate mathematical analysis. And vice versa. And computer simulation can use very complex strategy that is hard to put into math analysis."
   ]
  },
  {
   "cell_type": "code",
   "execution_count": 77,
   "metadata": {},
   "outputs": [
    {
     "name": "stdout",
     "output_type": "stream",
     "text": [
      "685 wins on 1000 trials\n",
      "Expected 666.6666666666666 on 5000 bets\n"
     ]
    }
   ],
   "source": [
    "from random import random as rnd\n",
    "\n",
    "def gamblerWin(cash, goal):\n",
    "    while True:\n",
    "        if cash == 0:    return 0\n",
    "        if cash >= goal: return 1\n",
    "        cash += 1 if rnd() >= 0.5 else -1  \n",
    "        \n",
    "def gamblerSimulation(stake, goal, trials):\n",
    "    wins = sum(gamblerWin(stake, goal) for trial in range(trials))\n",
    "    print(f\"{wins} wins on {trials} trials\")\n",
    "    print(f\"Expected {stake/goal*trials} on {stake*(goal - stake)} bets\")\n",
    "        \n",
    "gamblerSimulation(100, 150, 1000)\n",
    "        \n",
    "    "
   ]
  },
  {
   "cell_type": "markdown",
   "metadata": {},
   "source": [
    "# Find Largest Factor"
   ]
  },
  {
   "cell_type": "markdown",
   "metadata": {},
   "source": [
    "Important for cryptography that all ecomerce uses.\n",
    "- Consider all i less than n\n",
    "- while i devides n evengly:\n",
    "  - print i, since it is factor of n\n",
    "  - replace n with n/i"
   ]
  },
  {
   "cell_type": "code",
   "execution_count": 112,
   "metadata": {},
   "outputs": [
    {
     "name": "stdout",
     "output_type": "stream",
     "text": [
      "Found factor: 2\n",
      "Found factor: 2\n",
      "Found factor: 2\n",
      "Found factor: 7\n",
      "Found factor: 13\n",
      "Found factor: 13\n",
      "Found factor: 397\n"
     ]
    }
   ],
   "source": [
    "n = 3_757_208\n",
    "\n",
    "def nearestFactor(factor, n):\n",
    "    for i in range(factor, n):\n",
    "        if n % i == 0:\n",
    "            return i\n",
    "    else:\n",
    "        return n\n",
    "\n",
    "def factor(n):\n",
    "    total = 1\n",
    "    current = n\n",
    "    factor = 2\n",
    "    while total != n:\n",
    "        factor = nearestFactor(factor, current)\n",
    "        total *= factor\n",
    "        current //= factor\n",
    "        print(\"Found factor:\", factor)\n",
    "\n",
    "factor(n)"
   ]
  },
  {
   "cell_type": "code",
   "execution_count": 108,
   "metadata": {},
   "outputs": [
    {
     "name": "stdout",
     "output_type": "stream",
     "text": [
      "Found factor: 2071723\n"
     ]
    },
    {
     "ename": "KeyboardInterrupt",
     "evalue": "",
     "output_type": "error",
     "traceback": [
      "\u001b[1;31m---------------------------------------------------------------------------\u001b[0m",
      "\u001b[1;31mKeyboardInterrupt\u001b[0m                         Traceback (most recent call last)",
      "\u001b[1;32m<ipython-input-108-7ffccac92591>\u001b[0m in \u001b[0;36m<module>\u001b[1;34m\u001b[0m\n\u001b[1;32m----> 1\u001b[1;33m \u001b[0mfactor\u001b[0m\u001b[1;33m(\u001b[0m\u001b[1;36m11111111111111111\u001b[0m\u001b[1;33m)\u001b[0m\u001b[1;33m\u001b[0m\u001b[1;33m\u001b[0m\u001b[0m\n\u001b[0m",
      "\u001b[1;32m<ipython-input-103-805c27e8a1f8>\u001b[0m in \u001b[0;36mfactor\u001b[1;34m(n)\u001b[0m\n\u001b[0;32m     13\u001b[0m     \u001b[0mfactor\u001b[0m \u001b[1;33m=\u001b[0m \u001b[1;36m2\u001b[0m\u001b[1;33m\u001b[0m\u001b[1;33m\u001b[0m\u001b[0m\n\u001b[0;32m     14\u001b[0m     \u001b[1;32mwhile\u001b[0m \u001b[0mtotal\u001b[0m \u001b[1;33m!=\u001b[0m \u001b[0mn\u001b[0m\u001b[1;33m:\u001b[0m\u001b[1;33m\u001b[0m\u001b[1;33m\u001b[0m\u001b[0m\n\u001b[1;32m---> 15\u001b[1;33m         \u001b[0mfactor\u001b[0m \u001b[1;33m=\u001b[0m \u001b[0mnearestFactor\u001b[0m\u001b[1;33m(\u001b[0m\u001b[0mfactor\u001b[0m\u001b[1;33m,\u001b[0m \u001b[0mcurrent\u001b[0m\u001b[1;33m)\u001b[0m\u001b[1;33m\u001b[0m\u001b[1;33m\u001b[0m\u001b[0m\n\u001b[0m\u001b[0;32m     16\u001b[0m         \u001b[0mtotal\u001b[0m \u001b[1;33m*=\u001b[0m \u001b[0mfactor\u001b[0m\u001b[1;33m\u001b[0m\u001b[1;33m\u001b[0m\u001b[0m\n\u001b[0;32m     17\u001b[0m         \u001b[0mcurrent\u001b[0m \u001b[1;33m//=\u001b[0m \u001b[0mfactor\u001b[0m\u001b[1;33m\u001b[0m\u001b[1;33m\u001b[0m\u001b[0m\n",
      "\u001b[1;32m<ipython-input-103-805c27e8a1f8>\u001b[0m in \u001b[0;36mnearestFactor\u001b[1;34m(factor, n)\u001b[0m\n\u001b[0;32m      3\u001b[0m \u001b[1;32mdef\u001b[0m \u001b[0mnearestFactor\u001b[0m\u001b[1;33m(\u001b[0m\u001b[0mfactor\u001b[0m\u001b[1;33m,\u001b[0m \u001b[0mn\u001b[0m\u001b[1;33m)\u001b[0m\u001b[1;33m:\u001b[0m\u001b[1;33m\u001b[0m\u001b[1;33m\u001b[0m\u001b[0m\n\u001b[0;32m      4\u001b[0m     \u001b[1;32mfor\u001b[0m \u001b[0mi\u001b[0m \u001b[1;32min\u001b[0m \u001b[0mrange\u001b[0m\u001b[1;33m(\u001b[0m\u001b[0mfactor\u001b[0m\u001b[1;33m,\u001b[0m \u001b[0mn\u001b[0m\u001b[1;33m)\u001b[0m\u001b[1;33m:\u001b[0m\u001b[1;33m\u001b[0m\u001b[1;33m\u001b[0m\u001b[0m\n\u001b[1;32m----> 5\u001b[1;33m         \u001b[1;32mif\u001b[0m \u001b[0mn\u001b[0m \u001b[1;33m%\u001b[0m \u001b[0mi\u001b[0m \u001b[1;33m==\u001b[0m \u001b[1;36m0\u001b[0m\u001b[1;33m:\u001b[0m\u001b[1;33m\u001b[0m\u001b[1;33m\u001b[0m\u001b[0m\n\u001b[0m\u001b[0;32m      6\u001b[0m             \u001b[1;32mreturn\u001b[0m \u001b[0mi\u001b[0m\u001b[1;33m\u001b[0m\u001b[1;33m\u001b[0m\u001b[0m\n\u001b[0;32m      7\u001b[0m     \u001b[1;32melse\u001b[0m\u001b[1;33m:\u001b[0m\u001b[1;33m\u001b[0m\u001b[1;33m\u001b[0m\u001b[0m\n",
      "\u001b[1;31mKeyboardInterrupt\u001b[0m: "
     ]
    }
   ],
   "source": [
    "factor(11_111_111_111_111_111)"
   ]
  },
  {
   "cell_type": "code",
   "execution_count": 127,
   "metadata": {},
   "outputs": [],
   "source": [
    "def factor(n):\n",
    "    factor = 2\n",
    "    while (factor <= n // factor):\n",
    "        while (n % factor == 0):\n",
    "            print(\"Found factor:\", factor)\n",
    "            n = n // factor\n",
    "        factor += 1\n",
    "    if (n > 1):\n",
    "        print(\"Found factor:\", n)\n"
   ]
  },
  {
   "cell_type": "code",
   "execution_count": 135,
   "metadata": {},
   "outputs": [
    {
     "name": "stdout",
     "output_type": "stream",
     "text": [
      "Found factor: 2071723\n",
      "Found factor: 5363222357\n"
     ]
    }
   ],
   "source": [
    "factor(11_111_111_111_111_111)"
   ]
  },
  {
   "cell_type": "markdown",
   "metadata": {},
   "source": [
    "# "
   ]
  }
 ],
 "metadata": {
  "kernelspec": {
   "display_name": "Python 3",
   "language": "python",
   "name": "python3"
  },
  "language_info": {
   "codemirror_mode": {
    "name": "ipython",
    "version": 3
   },
   "file_extension": ".py",
   "mimetype": "text/x-python",
   "name": "python",
   "nbconvert_exporter": "python",
   "pygments_lexer": "ipython3",
   "version": "3.7.4"
  }
 },
 "nbformat": 4,
 "nbformat_minor": 2
}
