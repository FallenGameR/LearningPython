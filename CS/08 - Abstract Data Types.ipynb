{
 "cells": [
  {
   "cell_type": "markdown",
   "metadata": {},
   "source": [
    "# Strings"
   ]
  },
  {
   "cell_type": "code",
   "execution_count": 1,
   "metadata": {
    "ExecuteTime": {
     "end_time": "2020-06-27T02:30:12.857040Z",
     "start_time": "2020-06-27T02:30:12.842624Z"
    }
   },
   "outputs": [
    {
     "data": {
      "text/plain": [
       "True"
      ]
     },
     "execution_count": 1,
     "metadata": {},
     "output_type": "execute_result"
    }
   ],
   "source": [
    "def isPalindrome(string):\n",
    "    n = len(string)\n",
    "    for i in range(n//2):\n",
    "        if string[i] != string[n-1-i]:\n",
    "            return False\n",
    "    return True\n",
    "\n",
    "isPalindrome(\"дед\")"
   ]
  },
  {
   "cell_type": "code",
   "execution_count": 12,
   "metadata": {
    "ExecuteTime": {
     "end_time": "2020-06-27T02:50:14.882484Z",
     "start_time": "2020-06-27T02:50:14.872477Z"
    }
   },
   "outputs": [
    {
     "name": "stdout",
     "output_type": "stream",
     "text": [
      "True\n"
     ]
    }
   ],
   "source": [
    "def is_start(chord):\n",
    "    return chord == 'ATG'\n",
    "   \n",
    "def is_end(chord):\n",
    "    return chord in ('TAG', 'TAA', 'TGA')\n",
    "\n",
    "def is_potential_gene(dna):\n",
    "    length = len(dna)\n",
    "    correct_length = length % 3 == 0\n",
    "    if not correct_length:\n",
    "        print('wrong length', length)\n",
    "        return False\n",
    "\n",
    "    start = dna[0 : 3]\n",
    "    if not is_start(start):\n",
    "        print('wrong start', start)\n",
    "        return False\n",
    "\n",
    "    end = dna[-3 : length]\n",
    "    if not is_end(end):\n",
    "        print('wrong end', end)\n",
    "        return False\n",
    "\n",
    "    allowed = set('ACTG')\n",
    "    for i in range(length // 3 - 2):\n",
    "        index = (i+1) * 3\n",
    "        chord = dna[index : index + 3 ]\n",
    "        if is_end(chord):\n",
    "            print('wrong middle - early end', chord)\n",
    "            return False\n",
    "        if not all(char in allowed for char in chord):\n",
    "            print('wrong nucleotid', chord)\n",
    "            return False\n",
    "   \n",
    "    return True\n",
    "   \n",
    "GENOM = \"ATGCATAGCGCATAG\"\n",
    "print(is_potential_gene(GENOM))"
   ]
  },
  {
   "cell_type": "code",
   "execution_count": 15,
   "metadata": {},
   "outputs": [],
   "source": [
    "def find_genes(dna):\n",
    "    begin = -1\n",
    "    for i in range(len(dna)):\n",
    "        sub = dna[i:i+3]\n",
    "        if is_start(sub): begin = i\n",
    "        if is_end(sub):\n",
    "            possible_gene = dna[begin:i+3]\n",
    "            if begin != -1 and is_potential_gene(possible_gene):\n",
    "                print(possible_gene)\n",
    "                begin = -1                "
   ]
  },
  {
   "cell_type": "code",
   "execution_count": 16,
   "metadata": {},
   "outputs": [
    {
     "name": "stdout",
     "output_type": "stream",
     "text": [
      "wrong length 8\n",
      "ATGCATAGCGCATAG\n",
      "ATGTGCTAG\n"
     ]
    }
   ],
   "source": [
    "DNA = \"ATAGATGCATAGCGCATAGCTAGATGTGCTAGC\"\n",
    "find_genes(DNA)"
   ]
  },
  {
   "cell_type": "code",
   "execution_count": null,
   "metadata": {},
   "outputs": [],
   "source": []
  }
 ],
 "metadata": {
  "kernelspec": {
   "display_name": "Python 3",
   "language": "python",
   "name": "python3"
  },
  "language_info": {
   "codemirror_mode": {
    "name": "ipython",
    "version": 3
   },
   "file_extension": ".py",
   "mimetype": "text/x-python",
   "name": "python",
   "nbconvert_exporter": "python",
   "pygments_lexer": "ipython3",
   "version": "3.8.3"
  },
  "toc": {
   "base_numbering": 1,
   "nav_menu": {},
   "number_sections": true,
   "sideBar": true,
   "skip_h1_title": false,
   "title_cell": "Table of Contents",
   "title_sidebar": "Contents",
   "toc_cell": false,
   "toc_position": {},
   "toc_section_display": true,
   "toc_window_display": false
  },
  "varInspector": {
   "cols": {
    "lenName": 16,
    "lenType": 16,
    "lenVar": 40
   },
   "kernels_config": {
    "python": {
     "delete_cmd_postfix": "",
     "delete_cmd_prefix": "del ",
     "library": "var_list.py",
     "varRefreshCmd": "print(var_dic_list())"
    },
    "r": {
     "delete_cmd_postfix": ") ",
     "delete_cmd_prefix": "rm(",
     "library": "var_list.r",
     "varRefreshCmd": "cat(var_dic_list()) "
    }
   },
   "types_to_exclude": [
    "module",
    "function",
    "builtin_function_or_method",
    "instance",
    "_Feature"
   ],
   "window_display": false
  }
 },
 "nbformat": 4,
 "nbformat_minor": 2
}
