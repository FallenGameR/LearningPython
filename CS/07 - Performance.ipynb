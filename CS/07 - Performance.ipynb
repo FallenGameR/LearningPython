{
 "cells": [
  {
   "cell_type": "markdown",
   "metadata": {},
   "source": [
    "# A. Challange"
   ]
  },
  {
   "cell_type": "markdown",
   "metadata": {},
   "source": [
    "### Understanding lg cost"
   ]
  },
  {
   "cell_type": "code",
   "execution_count": 26,
   "metadata": {},
   "outputs": [
    {
     "name": "stdout",
     "output_type": "stream",
     "text": [
      "1 - 10.0 - 3.321928094887362\n",
      "2 - 100.0 - 6.643856189774724\n",
      "3 - 1000.0 - 9.965784284662087\n",
      "4 - 10000.0 - 13.287712379549449\n",
      "5 - 100000.0 - 16.609640474436812\n",
      "6 - 1000000.0 - 19.931568569324174\n"
     ]
    }
   ],
   "source": [
    "import math\n",
    "\n",
    "for p in range(1,7):\n",
    "    elements = math.pow(10,p)\n",
    "    cost = math.log2(elements)\n",
    "    print(p, \"-\", elements, \"-\", cost)"
   ]
  },
  {
   "cell_type": "markdown",
   "metadata": {},
   "source": [
    "### Sum-3 problem"
   ]
  },
  {
   "cell_type": "markdown",
   "metadata": {},
   "source": [
    "Given N integers, find triples that sum to 0. Used to find if 3 dots are on a line. And this is used in robot motion planning and test if one polygon can fir in another. For simplicity we'll just count without remembering.\n",
    "\n"
   ]
  },
  {
   "cell_type": "code",
   "execution_count": 13,
   "metadata": {},
   "outputs": [
    {
     "data": {
      "text/plain": [
       "3"
      ]
     },
     "execution_count": 13,
     "metadata": {},
     "output_type": "execute_result"
    }
   ],
   "source": [
    "def brute_force(numbers):\n",
    "    count = 0\n",
    "    for i in range(len(numbers)):\n",
    "        for j in range(i+1, len(numbers)):\n",
    "            for k in range(j+1, len(numbers)):\n",
    "                if numbers[i] + numbers[j] + numbers[k] == 0: count += 1\n",
    "    return count\n",
    "\n",
    "brute_force([30,-30,-20,-10,40,0])    "
   ]
  },
  {
   "cell_type": "code",
   "execution_count": 5,
   "metadata": {},
   "outputs": [],
   "source": [
    "enumerate?"
   ]
  }
 ],
 "metadata": {
  "kernelspec": {
   "display_name": "Python 3",
   "language": "python",
   "name": "python3"
  },
  "language_info": {
   "codemirror_mode": {
    "name": "ipython",
    "version": 3
   },
   "file_extension": ".py",
   "mimetype": "text/x-python",
   "name": "python",
   "nbconvert_exporter": "python",
   "pygments_lexer": "ipython3",
   "version": "3.7.4"
  }
 },
 "nbformat": 4,
 "nbformat_minor": 2
}
