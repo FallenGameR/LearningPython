{
 "cells": [
  {
   "cell_type": "markdown",
   "metadata": {},
   "source": [
    "# Random shuffle"
   ]
  },
  {
   "cell_type": "code",
   "execution_count": 80,
   "metadata": {},
   "outputs": [],
   "source": [
    "from random import random as rnd\n",
    "from random import randrange as rndr\n",
    "import random"
   ]
  },
  {
   "cell_type": "code",
   "execution_count": 14,
   "metadata": {},
   "outputs": [],
   "source": [
    "suits = [\"♣\", \"♠\", \"♥\", \"♦\"]\n",
    "ranks = [\"2\", \"3\", \"4\", \"5\", \"6\", \"7\", \"8\", \"9\", \"10\", \"J\", \"Q\", \"K\", \"A\"]\n",
    "cards = [f\"{rank}{suit}\" for suit in suits for rank in ranks]"
   ]
  },
  {
   "cell_type": "code",
   "execution_count": 86,
   "metadata": {},
   "outputs": [],
   "source": [
    "for index in range(len(cards)-1):\n",
    "    swap_index = rndr(index+1, len(cards))\n",
    "    cards[index], cards[swap_index] = cards[swap_index], cards[index]    "
   ]
  },
  {
   "cell_type": "code",
   "execution_count": 87,
   "metadata": {},
   "outputs": [
    {
     "name": "stdout",
     "output_type": "stream",
     "text": [
      "10♣ Q♠ J♦ K♦ 4♦ K♠ 7♥ 8♣ 4♠ J♥ 2♦ 5♠ 4♥ J♣ 2♥ A♣ J♠ 9♣ Q♣ 10♦ 9♦ 2♣ 9♥ 3♥ 8♠ 7♠ 3♦ 6♥ A♦ A♠ 4♣ 10♥ 8♥ 2♠ 9♠ 5♣ K♥ A♥ 3♣ K♣ 6♣ 6♦ 5♥ 6♠ 10♠ 8♦ 3♠ Q♥ 5♦ 7♣ 7♦ Q♦\n"
     ]
    }
   ],
   "source": [
    "print(*cards)"
   ]
  },
  {
   "cell_type": "markdown",
   "metadata": {},
   "source": [
    "# Coupon collection"
   ]
  },
  {
   "cell_type": "code",
   "execution_count": 47,
   "metadata": {},
   "outputs": [],
   "source": [
    "from random import random as rnd\n",
    "from random import randrange as rndr\n",
    "import random\n",
    "import numpy as np"
   ]
  },
  {
   "cell_type": "code",
   "execution_count": 44,
   "metadata": {},
   "outputs": [
    {
     "data": {
      "text/plain": [
       "51"
      ]
     },
     "execution_count": 44,
     "metadata": {},
     "output_type": "execute_result"
    }
   ],
   "source": [
    "differentCardsNumber = 13\n",
    "collected = [False] * differentCardsNumber\n",
    "\n",
    "iterations = 0\n",
    "while False in collected:\n",
    "    iterations += 1\n",
    "    collected[rndr(differentCardsNumber)] = True\n",
    "iterations"
   ]
  },
  {
   "cell_type": "markdown",
   "metadata": {},
   "source": [
    "But checking for an item in a list is O(N) operation and we can skip it"
   ]
  },
  {
   "cell_type": "code",
   "execution_count": 63,
   "metadata": {},
   "outputs": [
    {
     "data": {
      "text/plain": [
       "142945"
      ]
     },
     "execution_count": 63,
     "metadata": {},
     "output_type": "execute_result"
    }
   ],
   "source": [
    "# Number of Magic the Gathering cards published\n",
    "def simulateCollector(differentCardsNumber = 12534):\n",
    "    collected = [False] * differentCardsNumber\n",
    "    differentCardsFound = 0\n",
    "    iterations = 0\n",
    "    \n",
    "    while differentCardsFound < differentCardsNumber:\n",
    "        iterations += 1\n",
    "        found = rndr(differentCardsNumber)\n",
    "        if collected[found] == False:\n",
    "            collected[found] = True\n",
    "            differentCardsFound += 1\n",
    "    return iterations\n",
    "\n",
    "simulateCollector()"
   ]
  },
  {
   "cell_type": "markdown",
   "metadata": {},
   "source": [
    "And theoretical value for this problem by Laplase"
   ]
  },
  {
   "cell_type": "code",
   "execution_count": 71,
   "metadata": {},
   "outputs": [
    {
     "data": {
      "text/plain": [
       "125508.08383265445"
      ]
     },
     "execution_count": 71,
     "metadata": {},
     "output_type": "execute_result"
    }
   ],
   "source": [
    "m = differentCardsNumber\n",
    "m * np.log(m) + 0.57721 * m"
   ]
  },
  {
   "cell_type": "markdown",
   "metadata": {},
   "source": [
    "Averaging for several trials gives us more correct estimate"
   ]
  },
  {
   "cell_type": "code",
   "execution_count": 68,
   "metadata": {},
   "outputs": [],
   "source": [
    "trials = 100\n",
    "estimates = [simulateCollector() for trial in range(trials)]"
   ]
  },
  {
   "cell_type": "code",
   "execution_count": 69,
   "metadata": {},
   "outputs": [
    {
     "data": {
      "text/plain": [
       "126098.57"
      ]
     },
     "execution_count": 69,
     "metadata": {},
     "output_type": "execute_result"
    }
   ],
   "source": [
    "np.mean(estimates)"
   ]
  },
  {
   "cell_type": "code",
   "execution_count": 70,
   "metadata": {},
   "outputs": [
    {
     "data": {
      "text/plain": [
       "126098.57"
      ]
     },
     "execution_count": 70,
     "metadata": {},
     "output_type": "execute_result"
    }
   ],
   "source": [
    "sum(estimates) / len(estimates)"
   ]
  },
  {
   "cell_type": "markdown",
   "metadata": {},
   "source": [
    "# Self-avoiding random walks"
   ]
  },
  {
   "cell_type": "code",
   "execution_count": null,
   "metadata": {},
   "outputs": [],
   "source": []
  }
 ],
 "metadata": {
  "kernelspec": {
   "display_name": "Python 3",
   "language": "python",
   "name": "python3"
  },
  "language_info": {
   "codemirror_mode": {
    "name": "ipython",
    "version": 3
   },
   "file_extension": ".py",
   "mimetype": "text/x-python",
   "name": "python",
   "nbconvert_exporter": "python",
   "pygments_lexer": "ipython3",
   "version": "3.7.4"
  }
 },
 "nbformat": 4,
 "nbformat_minor": 2
}
