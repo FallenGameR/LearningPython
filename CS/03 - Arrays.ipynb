{
 "cells": [
  {
   "cell_type": "markdown",
   "metadata": {},
   "source": [
    "# Random shuffle"
   ]
  },
  {
   "cell_type": "code",
   "execution_count": 3,
   "metadata": {},
   "outputs": [],
   "source": [
    "from random import random as rnd\n",
    "from random import randrange as rndr\n",
    "import random"
   ]
  },
  {
   "cell_type": "code",
   "execution_count": 4,
   "metadata": {},
   "outputs": [],
   "source": [
    "suits = [\"♣\", \"♠\", \"♥\", \"♦\"]\n",
    "ranks = [\"2\", \"3\", \"4\", \"5\", \"6\", \"7\", \"8\", \"9\", \"10\", \"J\", \"Q\", \"K\", \"A\"]\n",
    "cards = [f\"{rank}{suit}\" for suit in suits for rank in ranks]"
   ]
  },
  {
   "cell_type": "code",
   "execution_count": 5,
   "metadata": {},
   "outputs": [],
   "source": [
    "for index in range(len(cards)-1):\n",
    "    swap_index = rndr(index+1, len(cards))\n",
    "    cards[index], cards[swap_index] = cards[swap_index], cards[index]    "
   ]
  },
  {
   "cell_type": "code",
   "execution_count": 6,
   "metadata": {},
   "outputs": [
    {
     "name": "stdout",
     "output_type": "stream",
     "text": [
      "10♣ K♣ Q♥ 9♠ Q♠ K♦ Q♦ 3♣ 10♦ 2♠ K♥ 7♦ 9♥ 9♦ 5♦ 10♥ 6♥ 7♠ 3♥ A♦ 3♦ J♣ A♠ 5♣ A♥ 8♠ 10♠ 4♣ 8♥ 4♦ 2♣ 5♠ K♠ 9♣ 7♥ 4♠ 6♣ J♥ 6♦ J♠ 8♦ A♣ 2♥ Q♣ J♦ 7♣ 8♣ 2♦ 3♠ 4♥ 5♥ 6♠\n"
     ]
    }
   ],
   "source": [
    "print(*cards)"
   ]
  },
  {
   "cell_type": "markdown",
   "metadata": {},
   "source": [
    "# Coupon collection"
   ]
  },
  {
   "cell_type": "code",
   "execution_count": 7,
   "metadata": {},
   "outputs": [],
   "source": [
    "from random import random as rnd\n",
    "from random import randrange as rndr\n",
    "import random\n",
    "import numpy as np"
   ]
  },
  {
   "cell_type": "code",
   "execution_count": 8,
   "metadata": {},
   "outputs": [
    {
     "data": {
      "text/plain": [
       "28"
      ]
     },
     "execution_count": 8,
     "metadata": {},
     "output_type": "execute_result"
    }
   ],
   "source": [
    "differentCardsNumber = 13\n",
    "collected = [False] * differentCardsNumber\n",
    "\n",
    "iterations = 0\n",
    "while False in collected:\n",
    "    iterations += 1\n",
    "    collected[rndr(differentCardsNumber)] = True\n",
    "iterations"
   ]
  },
  {
   "cell_type": "markdown",
   "metadata": {},
   "source": [
    "But checking for an item in a list is O(N) operation and we can skip it"
   ]
  },
  {
   "cell_type": "code",
   "execution_count": 9,
   "metadata": {},
   "outputs": [
    {
     "data": {
      "text/plain": [
       "140352"
      ]
     },
     "execution_count": 9,
     "metadata": {},
     "output_type": "execute_result"
    }
   ],
   "source": [
    "# Number of Magic the Gathering cards published\n",
    "def simulateCollector(differentCardsNumber = 12534):\n",
    "    collected = [False] * differentCardsNumber\n",
    "    differentCardsFound = 0\n",
    "    iterations = 0\n",
    "    \n",
    "    while differentCardsFound < differentCardsNumber:\n",
    "        iterations += 1\n",
    "        found = rndr(differentCardsNumber)\n",
    "        if collected[found] == False:\n",
    "            collected[found] = True\n",
    "            differentCardsFound += 1\n",
    "    return iterations\n",
    "\n",
    "simulateCollector()"
   ]
  },
  {
   "cell_type": "markdown",
   "metadata": {},
   "source": [
    "And theoretical value for this problem by Laplase"
   ]
  },
  {
   "cell_type": "code",
   "execution_count": 10,
   "metadata": {},
   "outputs": [
    {
     "data": {
      "text/plain": [
       "40.848071646999976"
      ]
     },
     "execution_count": 10,
     "metadata": {},
     "output_type": "execute_result"
    }
   ],
   "source": [
    "m = differentCardsNumber\n",
    "m * np.log(m) + 0.57721 * m"
   ]
  },
  {
   "cell_type": "markdown",
   "metadata": {},
   "source": [
    "Averaging for several trials gives us more correct estimate"
   ]
  },
  {
   "cell_type": "code",
   "execution_count": 11,
   "metadata": {},
   "outputs": [],
   "source": [
    "trials = 100\n",
    "estimates = [simulateCollector() for trial in range(trials)]"
   ]
  },
  {
   "cell_type": "code",
   "execution_count": 69,
   "metadata": {},
   "outputs": [
    {
     "data": {
      "text/plain": [
       "126098.57"
      ]
     },
     "execution_count": 69,
     "metadata": {},
     "output_type": "execute_result"
    }
   ],
   "source": [
    "np.mean(estimates)"
   ]
  },
  {
   "cell_type": "code",
   "execution_count": 70,
   "metadata": {},
   "outputs": [
    {
     "data": {
      "text/plain": [
       "126098.57"
      ]
     },
     "execution_count": 70,
     "metadata": {},
     "output_type": "execute_result"
    }
   ],
   "source": [
    "sum(estimates) / len(estimates)"
   ]
  },
  {
   "cell_type": "markdown",
   "metadata": {},
   "source": [
    "# Self-avoiding random walks"
   ]
  },
  {
   "cell_type": "code",
   "execution_count": 21,
   "metadata": {},
   "outputs": [],
   "source": [
    "from random import choice as rnd\n",
    "from random import shuffle as shuffle"
   ]
  },
  {
   "cell_type": "code",
   "execution_count": 22,
   "metadata": {},
   "outputs": [],
   "source": [
    "directions = [(-1,0),(+1,0),(0,-1),(0,+1)]"
   ]
  },
  {
   "cell_type": "code",
   "execution_count": 23,
   "metadata": {},
   "outputs": [],
   "source": [
    "def outOfRange(n, x, y):\n",
    "    def out(m):\n",
    "        return (m < 0) | (m >= n)\n",
    "    return out(x) | out(y)"
   ]
  },
  {
   "cell_type": "code",
   "execution_count": 24,
   "metadata": {},
   "outputs": [],
   "source": [
    "def dump(matrix):\n",
    "    n = len(matrix)\n",
    "    for row in [[int(row[col]) for col in range(n)] for row in matrix]:\n",
    "        print(*row)"
   ]
  },
  {
   "cell_type": "code",
   "execution_count": 25,
   "metadata": {},
   "outputs": [],
   "source": [
    "def nextMove(row, col):\n",
    "    shuffle(directions)\n",
    "    return [(row + y, col + x) for (y, x) in directions]"
   ]
  },
  {
   "cell_type": "code",
   "execution_count": 16,
   "metadata": {},
   "outputs": [],
   "source": [
    "def dogEscape(n):\n",
    "    row, col = n // 2, n // 2\n",
    "    visited = [[False for col in range(n)] for row in range(n)]\n",
    "    path = []\n",
    "    \n",
    "    while True:\n",
    "        visited[row][col] = True\n",
    "        path.append((row,col))\n",
    "        #dump(visited)\n",
    "\n",
    "        for r, c in nextMove(row, col):\n",
    "            if outOfRange(n, r, c): return (True, path)\n",
    "            if visited[r][c]: continue\n",
    "            else: break\n",
    "        else: return (False, path)\n",
    "        \n",
    "        row, col = r, c\n",
    "        \n",
    "def dogTrial(n, trials):\n",
    "    runs = [dogEscape(n) for _ in range(trials)]\n",
    "    traps = sum([1 for (success, _) in runs if not success])\n",
    "    return 100 * traps / trials"
   ]
  },
  {
   "cell_type": "code",
   "execution_count": 7,
   "metadata": {},
   "outputs": [
    {
     "data": {
      "text/plain": [
       "(True, [(2, 2), (2, 3), (3, 3), (4, 3)])"
      ]
     },
     "execution_count": 7,
     "metadata": {},
     "output_type": "execute_result"
    }
   ],
   "source": [
    "dogEscape(5)"
   ]
  },
  {
   "cell_type": "code",
   "execution_count": 8,
   "metadata": {},
   "outputs": [
    {
     "data": {
      "text/plain": [
       "9.36"
      ]
     },
     "execution_count": 8,
     "metadata": {},
     "output_type": "execute_result"
    }
   ],
   "source": [
    "dogTrial(10, 10000)"
   ]
  },
  {
   "cell_type": "markdown",
   "metadata": {},
   "source": [
    "### Plot curve for number of trials"
   ]
  },
  {
   "cell_type": "code",
   "execution_count": 9,
   "metadata": {},
   "outputs": [],
   "source": [
    "trials = 10000"
   ]
  },
  {
   "cell_type": "code",
   "execution_count": 10,
   "metadata": {},
   "outputs": [],
   "source": [
    "n = list(range(0,100, 10))\n",
    "n[0:3] = list(range(1,30, 3))"
   ]
  },
  {
   "cell_type": "code",
   "execution_count": 11,
   "metadata": {},
   "outputs": [
    {
     "data": {
      "text/plain": [
       "[1, 4, 7, 10, 13, 16, 19, 22, 25, 28, 30, 40, 50, 60, 70, 80, 90]"
      ]
     },
     "execution_count": 11,
     "metadata": {},
     "output_type": "execute_result"
    }
   ],
   "source": [
    "n"
   ]
  },
  {
   "cell_type": "code",
   "execution_count": 12,
   "metadata": {},
   "outputs": [],
   "source": [
    "y = [dogTrial(i, trials) for i in n]"
   ]
  },
  {
   "cell_type": "code",
   "execution_count": 13,
   "metadata": {},
   "outputs": [
    {
     "data": {
      "text/plain": [
       "[0.0,\n",
       " 0.3,\n",
       " 3.45,\n",
       " 9.18,\n",
       " 17.11,\n",
       " 26.74,\n",
       " 35.29,\n",
       " 44.14,\n",
       " 51.04,\n",
       " 59.44,\n",
       " 63.98,\n",
       " 79.78,\n",
       " 88.81,\n",
       " 94.44,\n",
       " 97.17,\n",
       " 98.26,\n",
       " 99.25]"
      ]
     },
     "execution_count": 13,
     "metadata": {},
     "output_type": "execute_result"
    }
   ],
   "source": [
    "y"
   ]
  },
  {
   "cell_type": "code",
   "execution_count": 14,
   "metadata": {},
   "outputs": [
    {
     "name": "stdout",
     "output_type": "stream",
     "text": [
      "Requirement already satisfied: plotly in c:\\tools\\anaconda3\\lib\\site-packages (4.4.1)\n",
      "Requirement already satisfied: six in c:\\tools\\anaconda3\\lib\\site-packages (from plotly) (1.12.0)\n",
      "Requirement already satisfied: retrying>=1.3.3 in c:\\tools\\anaconda3\\lib\\site-packages (from plotly) (1.3.3)\n"
     ]
    }
   ],
   "source": [
    "!pip install plotly"
   ]
  },
  {
   "cell_type": "code",
   "execution_count": 15,
   "metadata": {},
   "outputs": [
    {
     "data": {
      "image/png": "[encoded data removed]"
     },
     "metadata": {},
     "output_type": "display_data"
    }
   ],
   "source": [
    "import plotly.graph_objects as go\n",
    "fig = go.Figure(\n",
    "    data=[go.Scatter(x = n, y = y)],\n",
    "    layout_title_text=\"Dog trapped chance from the grid size\"\n",
    ")\n",
    "fig.show(renderer=\"png\")"
   ]
  },
  {
   "cell_type": "code",
   "execution_count": 12,
   "metadata": {},
   "outputs": [],
   "source": [
    "go.Figure?"
   ]
  },
  {
   "cell_type": "code",
   "execution_count": 13,
   "metadata": {},
   "outputs": [],
   "source": [
    "go.layout.XAxis?"
   ]
  },
  {
   "cell_type": "markdown",
   "metadata": {},
   "source": [
    "### Plot 2d routes"
   ]
  },
  {
   "cell_type": "markdown",
   "metadata": {},
   "source": [
    "If png render is used it ignores width and height layout options and thus needs to be customized explicitly"
   ]
  },
  {
   "cell_type": "code",
   "execution_count": 14,
   "metadata": {},
   "outputs": [],
   "source": [
    "import plotly.io as pio\n",
    "png_renderer = pio.renderers[\"png\"]\n",
    "png_renderer.width = 340\n",
    "png_renderer.height = 340\n",
    "pio.renderers.default = \"png\""
   ]
  },
  {
   "cell_type": "code",
   "execution_count": 27,
   "metadata": {
    "scrolled": true
   },
   "outputs": [
    {
     "data": {
      "image/png": "[encoded data removed]"
     },
     "metadata": {},
     "output_type": "display_data"
    }
   ],
   "source": [
    "import plotly.graph_objects as go\n",
    "from plotly.graph_objects import Figure as figure\n",
    "from plotly.graph_objects import Scatter as scatter\n",
    "\n",
    "n = 20 \n",
    "ex = dogEscape(n)\n",
    "(escape, path) = ex\n",
    "x, y = zip(*path)\n",
    "\n",
    "# Also check fixed ratio axes https://plot.ly/python/v3/axes/\n",
    "fig = figure(\n",
    "    data = scatter(x = x, y = y),\n",
    "    layout = {\n",
    "        #\"width\": 340, \n",
    "        #\"height\": 340,\n",
    "        \"title\": {\"text\": \"Dog \" + (\"escaped\" if escape else \"trapped\")},\n",
    "        \"xaxis\": {\"range\": [0, n-1]},\n",
    "        \"yaxis\": {\"range\": [0, n-1]},\n",
    "    },\n",
    ")\n",
    "fig.show()"
   ]
  },
  {
   "cell_type": "code",
   "execution_count": 78,
   "metadata": {},
   "outputs": [],
   "source": [
    "zip?"
   ]
  }
 ],
 "metadata": {
  "kernelspec": {
   "display_name": "Python 3",
   "language": "python",
   "name": "python3"
  },
  "language_info": {
   "codemirror_mode": {
    "name": "ipython",
    "version": 3
   },
   "file_extension": ".py",
   "mimetype": "text/x-python",
   "name": "python",
   "nbconvert_exporter": "python",
   "pygments_lexer": "ipython3",
   "version": "3.7.4"
  }
 },
 "nbformat": 4,
 "nbformat_minor": 2
}
